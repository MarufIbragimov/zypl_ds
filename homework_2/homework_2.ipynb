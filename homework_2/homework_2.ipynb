{
 "cells": [
  {
   "cell_type": "markdown",
   "metadata": {},
   "source": [
    "# Задание по оптимизации модели на основе анализа ошибок и отбора признаков  \n",
    "---  \n",
    "> урок_№: 2    \n",
    "домашняя_работа_№: 2  \n",
    "исполнитель: Маъруф Ибрагимов  "
   ]
  },
  {
   "cell_type": "code",
   "execution_count": 1,
   "metadata": {},
   "outputs": [],
   "source": [
    "import funcs as fn\n",
    "import numpy as np\n",
    "import pandas as pd\n",
    "\n",
    "import matplotlib.pyplot as plt\n",
    "import seaborn as sns"
   ]
  },
  {
   "cell_type": "markdown",
   "metadata": {},
   "source": [
    "## Анализ ошибок"
   ]
  },
  {
   "cell_type": "markdown",
   "metadata": {},
   "source": [
    "**Анализ производительности модели**:\n",
    "   - Проанализируйте работу модели, созданной в ДЗ1, по отдельным категориям признаков. Вычислите **AUC** для каждой категории и определите, есть ли категории, где модель показывает слабую производительность.\n",
    "   - Визуализируйте результаты анализа."
   ]
  },
  {
   "cell_type": "markdown",
   "metadata": {},
   "source": [
    "### Строим модель"
   ]
  },
  {
   "cell_type": "code",
   "execution_count": 2,
   "metadata": {},
   "outputs": [],
   "source": [
    "df=fn.get_bank_data()"
   ]
  },
  {
   "cell_type": "code",
   "execution_count": 3,
   "metadata": {},
   "outputs": [
    {
     "data": {
      "text/html": [
       "<div>\n",
       "<style scoped>\n",
       "    .dataframe tbody tr th:only-of-type {\n",
       "        vertical-align: middle;\n",
       "    }\n",
       "\n",
       "    .dataframe tbody tr th {\n",
       "        vertical-align: top;\n",
       "    }\n",
       "\n",
       "    .dataframe thead th {\n",
       "        text-align: right;\n",
       "    }\n",
       "</style>\n",
       "<table border=\"1\" class=\"dataframe\">\n",
       "  <thead>\n",
       "    <tr style=\"text-align: right;\">\n",
       "      <th></th>\n",
       "      <th>credit_score</th>\n",
       "      <th>country</th>\n",
       "      <th>gender</th>\n",
       "      <th>age</th>\n",
       "      <th>tenure</th>\n",
       "      <th>balance</th>\n",
       "      <th>products_number</th>\n",
       "      <th>credit_card</th>\n",
       "      <th>active_member</th>\n",
       "      <th>estimated_salary</th>\n",
       "      <th>churn</th>\n",
       "    </tr>\n",
       "  </thead>\n",
       "  <tbody>\n",
       "    <tr>\n",
       "      <th>0</th>\n",
       "      <td>619</td>\n",
       "      <td>France</td>\n",
       "      <td>Female</td>\n",
       "      <td>42</td>\n",
       "      <td>2</td>\n",
       "      <td>0.00</td>\n",
       "      <td>1</td>\n",
       "      <td>1</td>\n",
       "      <td>1</td>\n",
       "      <td>101348.88</td>\n",
       "      <td>1</td>\n",
       "    </tr>\n",
       "    <tr>\n",
       "      <th>1</th>\n",
       "      <td>608</td>\n",
       "      <td>Spain</td>\n",
       "      <td>Female</td>\n",
       "      <td>41</td>\n",
       "      <td>1</td>\n",
       "      <td>83807.86</td>\n",
       "      <td>1</td>\n",
       "      <td>0</td>\n",
       "      <td>1</td>\n",
       "      <td>112542.58</td>\n",
       "      <td>0</td>\n",
       "    </tr>\n",
       "    <tr>\n",
       "      <th>2</th>\n",
       "      <td>502</td>\n",
       "      <td>France</td>\n",
       "      <td>Female</td>\n",
       "      <td>42</td>\n",
       "      <td>8</td>\n",
       "      <td>159660.80</td>\n",
       "      <td>3</td>\n",
       "      <td>1</td>\n",
       "      <td>0</td>\n",
       "      <td>113931.57</td>\n",
       "      <td>1</td>\n",
       "    </tr>\n",
       "    <tr>\n",
       "      <th>3</th>\n",
       "      <td>699</td>\n",
       "      <td>France</td>\n",
       "      <td>Female</td>\n",
       "      <td>39</td>\n",
       "      <td>1</td>\n",
       "      <td>0.00</td>\n",
       "      <td>2</td>\n",
       "      <td>0</td>\n",
       "      <td>0</td>\n",
       "      <td>93826.63</td>\n",
       "      <td>0</td>\n",
       "    </tr>\n",
       "    <tr>\n",
       "      <th>4</th>\n",
       "      <td>850</td>\n",
       "      <td>Spain</td>\n",
       "      <td>Female</td>\n",
       "      <td>43</td>\n",
       "      <td>2</td>\n",
       "      <td>125510.82</td>\n",
       "      <td>1</td>\n",
       "      <td>1</td>\n",
       "      <td>1</td>\n",
       "      <td>79084.10</td>\n",
       "      <td>0</td>\n",
       "    </tr>\n",
       "  </tbody>\n",
       "</table>\n",
       "</div>"
      ],
      "text/plain": [
       "   credit_score country  gender  age  tenure    balance  products_number  \\\n",
       "0           619  France  Female   42       2       0.00                1   \n",
       "1           608   Spain  Female   41       1   83807.86                1   \n",
       "2           502  France  Female   42       8  159660.80                3   \n",
       "3           699  France  Female   39       1       0.00                2   \n",
       "4           850   Spain  Female   43       2  125510.82                1   \n",
       "\n",
       "   credit_card  active_member  estimated_salary  churn  \n",
       "0            1              1         101348.88      1  \n",
       "1            0              1         112542.58      0  \n",
       "2            1              0         113931.57      1  \n",
       "3            0              0          93826.63      0  \n",
       "4            1              1          79084.10      0  "
      ]
     },
     "execution_count": 3,
     "metadata": {},
     "output_type": "execute_result"
    }
   ],
   "source": [
    "df.head()"
   ]
  },
  {
   "cell_type": "code",
   "execution_count": 4,
   "metadata": {},
   "outputs": [],
   "source": [
    "cat_features=['country', 'gender', 'products_number', 'credit_card', 'active_member', 'tenure']"
   ]
  },
  {
   "cell_type": "code",
   "execution_count": 5,
   "metadata": {},
   "outputs": [
    {
     "data": {
      "application/vnd.jupyter.widget-view+json": {
       "model_id": "b658070e0d924c52a8e03234cfd7e3fc",
       "version_major": 2,
       "version_minor": 0
      },
      "text/plain": [
       "MetricVisualizer(layout=Layout(align_self='stretch', height='500px'))"
      ]
     },
     "metadata": {},
     "output_type": "display_data"
    },
    {
     "name": "stdout",
     "output_type": "stream",
     "text": [
      "auc_train: 0.7367\n",
      "auc_test: 0.7346\n"
     ]
    }
   ],
   "source": [
    "model, X_train, y_train, X_test, y_test, auc_train, auc_test = fn.build_model(df, cat_features, 'classifier')"
   ]
  },
  {
   "cell_type": "markdown",
   "metadata": {},
   "source": [
    "### Проверяем на data_leakage"
   ]
  },
  {
   "cell_type": "code",
   "execution_count": 6,
   "metadata": {},
   "outputs": [
    {
     "data": {
      "image/png": "[encoded data removed]",
      "text/plain": [
       "<Figure size 640x480 with 1 Axes>"
      ]
     },
     "metadata": {},
     "output_type": "display_data"
    }
   ],
   "source": [
    "feature_importance=fn.get_feature_importance(model, X_train.columns)\n",
    "fn.plot_feature_importance(feature_importance)"
   ]
  },
  {
   "cell_type": "markdown",
   "metadata": {},
   "source": [
    "> Явно выделяющихся признаков, которые бы могли свидетельствовать об утечке данных, не наблюдается.\n"
   ]
  },
  {
   "cell_type": "markdown",
   "metadata": {},
   "source": [
    "### Анализируем ошибки"
   ]
  },
  {
   "cell_type": "code",
   "execution_count": 7,
   "metadata": {},
   "outputs": [],
   "source": [
    "aucs_per_feature=fn.get_auc_per_category(model, X_train, y_train, X_test, y_test, cat_features)"
   ]
  },
  {
   "cell_type": "code",
   "execution_count": 8,
   "metadata": {},
   "outputs": [
    {
     "data": {
      "text/markdown": [
       "\n",
       "AUC and Counts for **country** sorted by AUC difference:\n"
      ],
      "text/plain": [
       "<IPython.core.display.Markdown object>"
      ]
     },
     "metadata": {},
     "output_type": "display_data"
    },
    {
     "data": {
      "text/html": [
       "<div>\n",
       "<style scoped>\n",
       "    .dataframe tbody tr th:only-of-type {\n",
       "        vertical-align: middle;\n",
       "    }\n",
       "\n",
       "    .dataframe tbody tr th {\n",
       "        vertical-align: top;\n",
       "    }\n",
       "\n",
       "    .dataframe thead th {\n",
       "        text-align: right;\n",
       "    }\n",
       "</style>\n",
       "<table border=\"1\" class=\"dataframe\">\n",
       "  <thead>\n",
       "    <tr style=\"text-align: right;\">\n",
       "      <th></th>\n",
       "      <th>Category</th>\n",
       "      <th>Train Count</th>\n",
       "      <th>Train AUC</th>\n",
       "      <th>Test Count</th>\n",
       "      <th>Test AUC</th>\n",
       "      <th>feature</th>\n",
       "    </tr>\n",
       "  </thead>\n",
       "  <tbody>\n",
       "    <tr>\n",
       "      <th>0</th>\n",
       "      <td>Germany</td>\n",
       "      <td>2011</td>\n",
       "      <td>0.767244</td>\n",
       "      <td>498</td>\n",
       "      <td>0.754592</td>\n",
       "      <td>country</td>\n",
       "    </tr>\n",
       "    <tr>\n",
       "      <th>1</th>\n",
       "      <td>France</td>\n",
       "      <td>3994</td>\n",
       "      <td>0.711911</td>\n",
       "      <td>1020</td>\n",
       "      <td>0.702839</td>\n",
       "      <td>country</td>\n",
       "    </tr>\n",
       "    <tr>\n",
       "      <th>2</th>\n",
       "      <td>Spain</td>\n",
       "      <td>1995</td>\n",
       "      <td>0.698945</td>\n",
       "      <td>482</td>\n",
       "      <td>0.712531</td>\n",
       "      <td>country</td>\n",
       "    </tr>\n",
       "  </tbody>\n",
       "</table>\n",
       "</div>"
      ],
      "text/plain": [
       "  Category  Train Count  Train AUC  Test Count  Test AUC  feature\n",
       "0  Germany         2011   0.767244         498  0.754592  country\n",
       "1   France         3994   0.711911        1020  0.702839  country\n",
       "2    Spain         1995   0.698945         482  0.712531  country"
      ]
     },
     "metadata": {},
     "output_type": "display_data"
    },
    {
     "name": "stdout",
     "output_type": "stream",
     "text": [
      "\n",
      "--------------------------------------------------\n",
      "\n"
     ]
    },
    {
     "data": {
      "text/markdown": [
       "\n",
       "AUC and Counts for **gender** sorted by AUC difference:\n"
      ],
      "text/plain": [
       "<IPython.core.display.Markdown object>"
      ]
     },
     "metadata": {},
     "output_type": "display_data"
    },
    {
     "data": {
      "text/html": [
       "<div>\n",
       "<style scoped>\n",
       "    .dataframe tbody tr th:only-of-type {\n",
       "        vertical-align: middle;\n",
       "    }\n",
       "\n",
       "    .dataframe tbody tr th {\n",
       "        vertical-align: top;\n",
       "    }\n",
       "\n",
       "    .dataframe thead th {\n",
       "        text-align: right;\n",
       "    }\n",
       "</style>\n",
       "<table border=\"1\" class=\"dataframe\">\n",
       "  <thead>\n",
       "    <tr style=\"text-align: right;\">\n",
       "      <th></th>\n",
       "      <th>Category</th>\n",
       "      <th>Train Count</th>\n",
       "      <th>Train AUC</th>\n",
       "      <th>Test Count</th>\n",
       "      <th>Test AUC</th>\n",
       "      <th>feature</th>\n",
       "    </tr>\n",
       "  </thead>\n",
       "  <tbody>\n",
       "    <tr>\n",
       "      <th>3</th>\n",
       "      <td>Female</td>\n",
       "      <td>3638</td>\n",
       "      <td>0.747754</td>\n",
       "      <td>905</td>\n",
       "      <td>0.726974</td>\n",
       "      <td>gender</td>\n",
       "    </tr>\n",
       "    <tr>\n",
       "      <th>4</th>\n",
       "      <td>Male</td>\n",
       "      <td>4362</td>\n",
       "      <td>0.719216</td>\n",
       "      <td>1095</td>\n",
       "      <td>0.739151</td>\n",
       "      <td>gender</td>\n",
       "    </tr>\n",
       "  </tbody>\n",
       "</table>\n",
       "</div>"
      ],
      "text/plain": [
       "  Category  Train Count  Train AUC  Test Count  Test AUC feature\n",
       "3   Female         3638   0.747754         905  0.726974  gender\n",
       "4     Male         4362   0.719216        1095  0.739151  gender"
      ]
     },
     "metadata": {},
     "output_type": "display_data"
    },
    {
     "name": "stdout",
     "output_type": "stream",
     "text": [
      "\n",
      "--------------------------------------------------\n",
      "\n"
     ]
    },
    {
     "data": {
      "text/markdown": [
       "\n",
       "AUC and Counts for **products_number** sorted by AUC difference:\n"
      ],
      "text/plain": [
       "<IPython.core.display.Markdown object>"
      ]
     },
     "metadata": {},
     "output_type": "display_data"
    },
    {
     "data": {
      "text/html": [
       "<div>\n",
       "<style scoped>\n",
       "    .dataframe tbody tr th:only-of-type {\n",
       "        vertical-align: middle;\n",
       "    }\n",
       "\n",
       "    .dataframe tbody tr th {\n",
       "        vertical-align: top;\n",
       "    }\n",
       "\n",
       "    .dataframe thead th {\n",
       "        text-align: right;\n",
       "    }\n",
       "</style>\n",
       "<table border=\"1\" class=\"dataframe\">\n",
       "  <thead>\n",
       "    <tr style=\"text-align: right;\">\n",
       "      <th></th>\n",
       "      <th>Category</th>\n",
       "      <th>Train Count</th>\n",
       "      <th>Train AUC</th>\n",
       "      <th>Test Count</th>\n",
       "      <th>Test AUC</th>\n",
       "      <th>feature</th>\n",
       "    </tr>\n",
       "  </thead>\n",
       "  <tbody>\n",
       "    <tr>\n",
       "      <th>5</th>\n",
       "      <td>3</td>\n",
       "      <td>213</td>\n",
       "      <td>0.606613</td>\n",
       "      <td>53</td>\n",
       "      <td>0.571429</td>\n",
       "      <td>products_number</td>\n",
       "    </tr>\n",
       "    <tr>\n",
       "      <th>6</th>\n",
       "      <td>2</td>\n",
       "      <td>3690</td>\n",
       "      <td>0.591373</td>\n",
       "      <td>900</td>\n",
       "      <td>0.569225</td>\n",
       "      <td>products_number</td>\n",
       "    </tr>\n",
       "    <tr>\n",
       "      <th>7</th>\n",
       "      <td>1</td>\n",
       "      <td>4052</td>\n",
       "      <td>0.714358</td>\n",
       "      <td>1032</td>\n",
       "      <td>0.720124</td>\n",
       "      <td>products_number</td>\n",
       "    </tr>\n",
       "    <tr>\n",
       "      <th>8</th>\n",
       "      <td>4</td>\n",
       "      <td>45</td>\n",
       "      <td>NaN</td>\n",
       "      <td>15</td>\n",
       "      <td>NaN</td>\n",
       "      <td>products_number</td>\n",
       "    </tr>\n",
       "  </tbody>\n",
       "</table>\n",
       "</div>"
      ],
      "text/plain": [
       "  Category  Train Count  Train AUC  Test Count  Test AUC          feature\n",
       "5        3          213   0.606613          53  0.571429  products_number\n",
       "6        2         3690   0.591373         900  0.569225  products_number\n",
       "7        1         4052   0.714358        1032  0.720124  products_number\n",
       "8        4           45        NaN          15       NaN  products_number"
      ]
     },
     "metadata": {},
     "output_type": "display_data"
    },
    {
     "name": "stdout",
     "output_type": "stream",
     "text": [
      "\n",
      "--------------------------------------------------\n",
      "\n"
     ]
    },
    {
     "data": {
      "text/markdown": [
       "\n",
       "AUC and Counts for **credit_card** sorted by AUC difference:\n"
      ],
      "text/plain": [
       "<IPython.core.display.Markdown object>"
      ]
     },
     "metadata": {},
     "output_type": "display_data"
    },
    {
     "data": {
      "text/html": [
       "<div>\n",
       "<style scoped>\n",
       "    .dataframe tbody tr th:only-of-type {\n",
       "        vertical-align: middle;\n",
       "    }\n",
       "\n",
       "    .dataframe tbody tr th {\n",
       "        vertical-align: top;\n",
       "    }\n",
       "\n",
       "    .dataframe thead th {\n",
       "        text-align: right;\n",
       "    }\n",
       "</style>\n",
       "<table border=\"1\" class=\"dataframe\">\n",
       "  <thead>\n",
       "    <tr style=\"text-align: right;\">\n",
       "      <th></th>\n",
       "      <th>Category</th>\n",
       "      <th>Train Count</th>\n",
       "      <th>Train AUC</th>\n",
       "      <th>Test Count</th>\n",
       "      <th>Test AUC</th>\n",
       "      <th>feature</th>\n",
       "    </tr>\n",
       "  </thead>\n",
       "  <tbody>\n",
       "    <tr>\n",
       "      <th>9</th>\n",
       "      <td>0</td>\n",
       "      <td>2372</td>\n",
       "      <td>0.738879</td>\n",
       "      <td>573</td>\n",
       "      <td>0.731400</td>\n",
       "      <td>credit_card</td>\n",
       "    </tr>\n",
       "    <tr>\n",
       "      <th>10</th>\n",
       "      <td>1</td>\n",
       "      <td>5628</td>\n",
       "      <td>0.735741</td>\n",
       "      <td>1427</td>\n",
       "      <td>0.736015</td>\n",
       "      <td>credit_card</td>\n",
       "    </tr>\n",
       "  </tbody>\n",
       "</table>\n",
       "</div>"
      ],
      "text/plain": [
       "   Category  Train Count  Train AUC  Test Count  Test AUC      feature\n",
       "9         0         2372   0.738879         573  0.731400  credit_card\n",
       "10        1         5628   0.735741        1427  0.736015  credit_card"
      ]
     },
     "metadata": {},
     "output_type": "display_data"
    },
    {
     "name": "stdout",
     "output_type": "stream",
     "text": [
      "\n",
      "--------------------------------------------------\n",
      "\n"
     ]
    },
    {
     "data": {
      "text/markdown": [
       "\n",
       "AUC and Counts for **active_member** sorted by AUC difference:\n"
      ],
      "text/plain": [
       "<IPython.core.display.Markdown object>"
      ]
     },
     "metadata": {},
     "output_type": "display_data"
    },
    {
     "data": {
      "text/html": [
       "<div>\n",
       "<style scoped>\n",
       "    .dataframe tbody tr th:only-of-type {\n",
       "        vertical-align: middle;\n",
       "    }\n",
       "\n",
       "    .dataframe tbody tr th {\n",
       "        vertical-align: top;\n",
       "    }\n",
       "\n",
       "    .dataframe thead th {\n",
       "        text-align: right;\n",
       "    }\n",
       "</style>\n",
       "<table border=\"1\" class=\"dataframe\">\n",
       "  <thead>\n",
       "    <tr style=\"text-align: right;\">\n",
       "      <th></th>\n",
       "      <th>Category</th>\n",
       "      <th>Train Count</th>\n",
       "      <th>Train AUC</th>\n",
       "      <th>Test Count</th>\n",
       "      <th>Test AUC</th>\n",
       "      <th>feature</th>\n",
       "    </tr>\n",
       "  </thead>\n",
       "  <tbody>\n",
       "    <tr>\n",
       "      <th>11</th>\n",
       "      <td>1</td>\n",
       "      <td>4102</td>\n",
       "      <td>0.662082</td>\n",
       "      <td>1049</td>\n",
       "      <td>0.658586</td>\n",
       "      <td>active_member</td>\n",
       "    </tr>\n",
       "    <tr>\n",
       "      <th>12</th>\n",
       "      <td>0</td>\n",
       "      <td>3898</td>\n",
       "      <td>0.771767</td>\n",
       "      <td>951</td>\n",
       "      <td>0.773023</td>\n",
       "      <td>active_member</td>\n",
       "    </tr>\n",
       "  </tbody>\n",
       "</table>\n",
       "</div>"
      ],
      "text/plain": [
       "   Category  Train Count  Train AUC  Test Count  Test AUC        feature\n",
       "11        1         4102   0.662082        1049  0.658586  active_member\n",
       "12        0         3898   0.771767         951  0.773023  active_member"
      ]
     },
     "metadata": {},
     "output_type": "display_data"
    },
    {
     "name": "stdout",
     "output_type": "stream",
     "text": [
      "\n",
      "--------------------------------------------------\n",
      "\n"
     ]
    },
    {
     "data": {
      "text/markdown": [
       "\n",
       "AUC and Counts for **tenure** sorted by AUC difference:\n"
      ],
      "text/plain": [
       "<IPython.core.display.Markdown object>"
      ]
     },
     "metadata": {},
     "output_type": "display_data"
    },
    {
     "data": {
      "text/html": [
       "<div>\n",
       "<style scoped>\n",
       "    .dataframe tbody tr th:only-of-type {\n",
       "        vertical-align: middle;\n",
       "    }\n",
       "\n",
       "    .dataframe tbody tr th {\n",
       "        vertical-align: top;\n",
       "    }\n",
       "\n",
       "    .dataframe thead th {\n",
       "        text-align: right;\n",
       "    }\n",
       "</style>\n",
       "<table border=\"1\" class=\"dataframe\">\n",
       "  <thead>\n",
       "    <tr style=\"text-align: right;\">\n",
       "      <th></th>\n",
       "      <th>Category</th>\n",
       "      <th>Train Count</th>\n",
       "      <th>Train AUC</th>\n",
       "      <th>Test Count</th>\n",
       "      <th>Test AUC</th>\n",
       "      <th>feature</th>\n",
       "    </tr>\n",
       "  </thead>\n",
       "  <tbody>\n",
       "    <tr>\n",
       "      <th>13</th>\n",
       "      <td>10</td>\n",
       "      <td>393</td>\n",
       "      <td>0.785585</td>\n",
       "      <td>97</td>\n",
       "      <td>0.684885</td>\n",
       "      <td>tenure</td>\n",
       "    </tr>\n",
       "    <tr>\n",
       "      <th>14</th>\n",
       "      <td>4</td>\n",
       "      <td>803</td>\n",
       "      <td>0.727328</td>\n",
       "      <td>186</td>\n",
       "      <td>0.677789</td>\n",
       "      <td>tenure</td>\n",
       "    </tr>\n",
       "    <tr>\n",
       "      <th>15</th>\n",
       "      <td>5</td>\n",
       "      <td>829</td>\n",
       "      <td>0.766709</td>\n",
       "      <td>183</td>\n",
       "      <td>0.718554</td>\n",
       "      <td>tenure</td>\n",
       "    </tr>\n",
       "    <tr>\n",
       "      <th>16</th>\n",
       "      <td>9</td>\n",
       "      <td>768</td>\n",
       "      <td>0.748147</td>\n",
       "      <td>216</td>\n",
       "      <td>0.709617</td>\n",
       "      <td>tenure</td>\n",
       "    </tr>\n",
       "    <tr>\n",
       "      <th>17</th>\n",
       "      <td>1</td>\n",
       "      <td>815</td>\n",
       "      <td>0.770842</td>\n",
       "      <td>220</td>\n",
       "      <td>0.766051</td>\n",
       "      <td>tenure</td>\n",
       "    </tr>\n",
       "    <tr>\n",
       "      <th>18</th>\n",
       "      <td>8</td>\n",
       "      <td>805</td>\n",
       "      <td>0.728238</td>\n",
       "      <td>220</td>\n",
       "      <td>0.724719</td>\n",
       "      <td>tenure</td>\n",
       "    </tr>\n",
       "    <tr>\n",
       "      <th>19</th>\n",
       "      <td>6</td>\n",
       "      <td>777</td>\n",
       "      <td>0.689475</td>\n",
       "      <td>190</td>\n",
       "      <td>0.703947</td>\n",
       "      <td>tenure</td>\n",
       "    </tr>\n",
       "    <tr>\n",
       "      <th>20</th>\n",
       "      <td>3</td>\n",
       "      <td>801</td>\n",
       "      <td>0.724318</td>\n",
       "      <td>208</td>\n",
       "      <td>0.748472</td>\n",
       "      <td>tenure</td>\n",
       "    </tr>\n",
       "    <tr>\n",
       "      <th>21</th>\n",
       "      <td>7</td>\n",
       "      <td>832</td>\n",
       "      <td>0.723892</td>\n",
       "      <td>196</td>\n",
       "      <td>0.784117</td>\n",
       "      <td>tenure</td>\n",
       "    </tr>\n",
       "    <tr>\n",
       "      <th>22</th>\n",
       "      <td>0</td>\n",
       "      <td>333</td>\n",
       "      <td>0.707213</td>\n",
       "      <td>80</td>\n",
       "      <td>0.769231</td>\n",
       "      <td>tenure</td>\n",
       "    </tr>\n",
       "    <tr>\n",
       "      <th>23</th>\n",
       "      <td>2</td>\n",
       "      <td>844</td>\n",
       "      <td>0.733099</td>\n",
       "      <td>204</td>\n",
       "      <td>0.809083</td>\n",
       "      <td>tenure</td>\n",
       "    </tr>\n",
       "  </tbody>\n",
       "</table>\n",
       "</div>"
      ],
      "text/plain": [
       "   Category  Train Count  Train AUC  Test Count  Test AUC feature\n",
       "13       10          393   0.785585          97  0.684885  tenure\n",
       "14        4          803   0.727328         186  0.677789  tenure\n",
       "15        5          829   0.766709         183  0.718554  tenure\n",
       "16        9          768   0.748147         216  0.709617  tenure\n",
       "17        1          815   0.770842         220  0.766051  tenure\n",
       "18        8          805   0.728238         220  0.724719  tenure\n",
       "19        6          777   0.689475         190  0.703947  tenure\n",
       "20        3          801   0.724318         208  0.748472  tenure\n",
       "21        7          832   0.723892         196  0.784117  tenure\n",
       "22        0          333   0.707213          80  0.769231  tenure\n",
       "23        2          844   0.733099         204  0.809083  tenure"
      ]
     },
     "metadata": {},
     "output_type": "display_data"
    },
    {
     "name": "stdout",
     "output_type": "stream",
     "text": [
      "\n",
      "--------------------------------------------------\n",
      "\n"
     ]
    }
   ],
   "source": [
    "fn.print_in_sequence(aucs_per_feature, 'feature', '\\nAUC and Counts for **{}** sorted by AUC difference:\\n')"
   ]
  },
  {
   "cell_type": "markdown",
   "metadata": {},
   "source": [
    ">* Анализ предиктора `products_number` вернул пустые значения по категории 4, что говорит о явном недостатке наблюдений по этой категории.\n",
    ">* Анализ предиктора `tenure` показывает значимые снижения тестовых метрик по категориям 10, 4, 5 и 9 "
   ]
  },
  {
   "cell_type": "markdown",
   "metadata": {},
   "source": [
    "#### Ищем и устраняем ошибки по предиктору `products_number`"
   ]
  },
  {
   "cell_type": "code",
   "execution_count": 9,
   "metadata": {},
   "outputs": [
    {
     "data": {
      "text/html": [
       "<div>\n",
       "<style scoped>\n",
       "    .dataframe tbody tr th:only-of-type {\n",
       "        vertical-align: middle;\n",
       "    }\n",
       "\n",
       "    .dataframe tbody tr th {\n",
       "        vertical-align: top;\n",
       "    }\n",
       "\n",
       "    .dataframe thead th {\n",
       "        text-align: right;\n",
       "    }\n",
       "</style>\n",
       "<table border=\"1\" class=\"dataframe\">\n",
       "  <thead>\n",
       "    <tr style=\"text-align: right;\">\n",
       "      <th></th>\n",
       "      <th>train</th>\n",
       "      <th>test</th>\n",
       "    </tr>\n",
       "    <tr>\n",
       "      <th>products_number</th>\n",
       "      <th></th>\n",
       "      <th></th>\n",
       "    </tr>\n",
       "  </thead>\n",
       "  <tbody>\n",
       "    <tr>\n",
       "      <th>1</th>\n",
       "      <td>0.51</td>\n",
       "      <td>0.52</td>\n",
       "    </tr>\n",
       "    <tr>\n",
       "      <th>2</th>\n",
       "      <td>0.46</td>\n",
       "      <td>0.45</td>\n",
       "    </tr>\n",
       "    <tr>\n",
       "      <th>3</th>\n",
       "      <td>0.03</td>\n",
       "      <td>0.03</td>\n",
       "    </tr>\n",
       "    <tr>\n",
       "      <th>4</th>\n",
       "      <td>0.01</td>\n",
       "      <td>0.01</td>\n",
       "    </tr>\n",
       "  </tbody>\n",
       "</table>\n",
       "</div>"
      ],
      "text/plain": [
       "                 train  test\n",
       "products_number             \n",
       "1                 0.51  0.52\n",
       "2                 0.46  0.45\n",
       "3                 0.03  0.03\n",
       "4                 0.01  0.01"
      ]
     },
     "execution_count": 9,
     "metadata": {},
     "output_type": "execute_result"
    }
   ],
   "source": [
    "fn.compare_proportions('products_number', X_train, X_test)"
   ]
  },
  {
   "cell_type": "code",
   "execution_count": 10,
   "metadata": {},
   "outputs": [],
   "source": [
    "df['products_number']=np.where(df['products_number']>2, '>2', df['products_number'])"
   ]
  },
  {
   "cell_type": "code",
   "execution_count": 11,
   "metadata": {},
   "outputs": [
    {
     "data": {
      "text/plain": [
       "products_number\n",
       "1     0.5084\n",
       "2     0.4590\n",
       ">2    0.0326\n",
       "Name: proportion, dtype: float64"
      ]
     },
     "execution_count": 11,
     "metadata": {},
     "output_type": "execute_result"
    }
   ],
   "source": [
    "df['products_number'].value_counts(normalize=True)"
   ]
  },
  {
   "cell_type": "code",
   "execution_count": 12,
   "metadata": {},
   "outputs": [
    {
     "data": {
      "application/vnd.jupyter.widget-view+json": {
       "model_id": "a644f50bcf124f98ace5251bf7b19344",
       "version_major": 2,
       "version_minor": 0
      },
      "text/plain": [
       "MetricVisualizer(layout=Layout(align_self='stretch', height='500px'))"
      ]
     },
     "metadata": {},
     "output_type": "display_data"
    },
    {
     "name": "stdout",
     "output_type": "stream",
     "text": [
      "auc_train: 0.7376\n",
      "auc_test: 0.7346\n"
     ]
    }
   ],
   "source": [
    "model, X_train, y_train, X_test, y_test, auc_train, auc_test = fn.build_model(df, cat_features, 'classifier')"
   ]
  },
  {
   "cell_type": "code",
   "execution_count": 13,
   "metadata": {},
   "outputs": [
    {
     "data": {
      "text/html": [
       "<div>\n",
       "<style scoped>\n",
       "    .dataframe tbody tr th:only-of-type {\n",
       "        vertical-align: middle;\n",
       "    }\n",
       "\n",
       "    .dataframe tbody tr th {\n",
       "        vertical-align: top;\n",
       "    }\n",
       "\n",
       "    .dataframe thead th {\n",
       "        text-align: right;\n",
       "    }\n",
       "</style>\n",
       "<table border=\"1\" class=\"dataframe\">\n",
       "  <thead>\n",
       "    <tr style=\"text-align: right;\">\n",
       "      <th></th>\n",
       "      <th>Category</th>\n",
       "      <th>Train Count</th>\n",
       "      <th>Train AUC</th>\n",
       "      <th>Test Count</th>\n",
       "      <th>Test AUC</th>\n",
       "      <th>feature</th>\n",
       "    </tr>\n",
       "  </thead>\n",
       "  <tbody>\n",
       "    <tr>\n",
       "      <th>0</th>\n",
       "      <td>2</td>\n",
       "      <td>3690</td>\n",
       "      <td>0.596857</td>\n",
       "      <td>900</td>\n",
       "      <td>0.577288</td>\n",
       "      <td>products_number</td>\n",
       "    </tr>\n",
       "    <tr>\n",
       "      <th>1</th>\n",
       "      <td>&gt;2</td>\n",
       "      <td>258</td>\n",
       "      <td>0.607163</td>\n",
       "      <td>68</td>\n",
       "      <td>0.597884</td>\n",
       "      <td>products_number</td>\n",
       "    </tr>\n",
       "    <tr>\n",
       "      <th>2</th>\n",
       "      <td>1</td>\n",
       "      <td>4052</td>\n",
       "      <td>0.715001</td>\n",
       "      <td>1032</td>\n",
       "      <td>0.719601</td>\n",
       "      <td>products_number</td>\n",
       "    </tr>\n",
       "  </tbody>\n",
       "</table>\n",
       "</div>"
      ],
      "text/plain": [
       "  Category  Train Count  Train AUC  Test Count  Test AUC          feature\n",
       "0        2         3690   0.596857         900  0.577288  products_number\n",
       "1       >2          258   0.607163          68  0.597884  products_number\n",
       "2        1         4052   0.715001        1032  0.719601  products_number"
      ]
     },
     "execution_count": 13,
     "metadata": {},
     "output_type": "execute_result"
    }
   ],
   "source": [
    "fn.get_auc_per_category(model, X_train, y_train, X_test, y_test, 'products_number')"
   ]
  },
  {
   "cell_type": "markdown",
   "metadata": {},
   "source": [
    "#### Ищем и устраняем ошибки по предиктору `tenure`"
   ]
  },
  {
   "cell_type": "code",
   "execution_count": 14,
   "metadata": {},
   "outputs": [
    {
     "data": {
      "text/html": [
       "<div>\n",
       "<style scoped>\n",
       "    .dataframe tbody tr th:only-of-type {\n",
       "        vertical-align: middle;\n",
       "    }\n",
       "\n",
       "    .dataframe tbody tr th {\n",
       "        vertical-align: top;\n",
       "    }\n",
       "\n",
       "    .dataframe thead th {\n",
       "        text-align: right;\n",
       "    }\n",
       "</style>\n",
       "<table border=\"1\" class=\"dataframe\">\n",
       "  <thead>\n",
       "    <tr style=\"text-align: right;\">\n",
       "      <th></th>\n",
       "      <th>train</th>\n",
       "      <th>test</th>\n",
       "    </tr>\n",
       "    <tr>\n",
       "      <th>tenure</th>\n",
       "      <th></th>\n",
       "      <th></th>\n",
       "    </tr>\n",
       "  </thead>\n",
       "  <tbody>\n",
       "    <tr>\n",
       "      <th>0</th>\n",
       "      <td>0.04</td>\n",
       "      <td>0.04</td>\n",
       "    </tr>\n",
       "    <tr>\n",
       "      <th>1</th>\n",
       "      <td>0.10</td>\n",
       "      <td>0.11</td>\n",
       "    </tr>\n",
       "    <tr>\n",
       "      <th>2</th>\n",
       "      <td>0.11</td>\n",
       "      <td>0.10</td>\n",
       "    </tr>\n",
       "    <tr>\n",
       "      <th>3</th>\n",
       "      <td>0.10</td>\n",
       "      <td>0.10</td>\n",
       "    </tr>\n",
       "    <tr>\n",
       "      <th>4</th>\n",
       "      <td>0.10</td>\n",
       "      <td>0.09</td>\n",
       "    </tr>\n",
       "    <tr>\n",
       "      <th>5</th>\n",
       "      <td>0.10</td>\n",
       "      <td>0.09</td>\n",
       "    </tr>\n",
       "    <tr>\n",
       "      <th>6</th>\n",
       "      <td>0.10</td>\n",
       "      <td>0.10</td>\n",
       "    </tr>\n",
       "    <tr>\n",
       "      <th>7</th>\n",
       "      <td>0.10</td>\n",
       "      <td>0.10</td>\n",
       "    </tr>\n",
       "    <tr>\n",
       "      <th>8</th>\n",
       "      <td>0.10</td>\n",
       "      <td>0.11</td>\n",
       "    </tr>\n",
       "    <tr>\n",
       "      <th>9</th>\n",
       "      <td>0.10</td>\n",
       "      <td>0.11</td>\n",
       "    </tr>\n",
       "    <tr>\n",
       "      <th>10</th>\n",
       "      <td>0.05</td>\n",
       "      <td>0.05</td>\n",
       "    </tr>\n",
       "  </tbody>\n",
       "</table>\n",
       "</div>"
      ],
      "text/plain": [
       "        train  test\n",
       "tenure             \n",
       "0        0.04  0.04\n",
       "1        0.10  0.11\n",
       "2        0.11  0.10\n",
       "3        0.10  0.10\n",
       "4        0.10  0.09\n",
       "5        0.10  0.09\n",
       "6        0.10  0.10\n",
       "7        0.10  0.10\n",
       "8        0.10  0.11\n",
       "9        0.10  0.11\n",
       "10       0.05  0.05"
      ]
     },
     "execution_count": 14,
     "metadata": {},
     "output_type": "execute_result"
    }
   ],
   "source": [
    "fn.compare_proportions('tenure', X_train, X_test).sort_index()"
   ]
  },
  {
   "cell_type": "markdown",
   "metadata": {},
   "source": [
    "> За исключением категорий 0 и 10, по всем остальным категориям пропорции распределены более менее равномерно как в тренировочном, так и в тестовом сете.  \n",
    "> Но малая пропорция категории 10 скорее всего не является причиной ошибки, поскольку категория 0 даже при более низкой пропорции показывает рост метрики на тестовом сете.  "
   ]
  },
  {
   "cell_type": "code",
   "execution_count": 16,
   "metadata": {},
   "outputs": [
    {
     "data": {
      "image/png": "[encoded data removed]",
      "text/plain": [
       "<Figure size 640x480 with 1 Axes>"
      ]
     },
     "metadata": {},
     "output_type": "display_data"
    }
   ],
   "source": [
    "df['tenure'].hist();"
   ]
  },
  {
   "cell_type": "code",
   "execution_count": 17,
   "metadata": {},
   "outputs": [],
   "source": [
    "tenures_list=[4, 5, 9, 10]\n",
    "\n",
    "erroneous_tenures=pd.concat([\n",
    "    X_train.query(\"tenure.isin(@tenures_list)\").assign(set='train'),\n",
    "    X_test.query(\"tenure.isin(@tenures_list)\").assign(set='test')\n",
    "], ignore_index=True)"
   ]
  },
  {
   "cell_type": "markdown",
   "metadata": {},
   "source": [
    "##### Сравниваем по числовым предикторам"
   ]
  },
  {
   "cell_type": "code",
   "execution_count": 18,
   "metadata": {},
   "outputs": [],
   "source": [
    "cont_features=['credit_score', 'age', 'balance', 'estimated_salary']"
   ]
  },
  {
   "cell_type": "code",
   "execution_count": 19,
   "metadata": {},
   "outputs": [],
   "source": [
    "def get_description(data, stats=['mean', 'std', '50%']):\n",
    "    \"\"\"\n",
    "    Трансформирует описание датафрейма.\n",
    "\n",
    "    Принимает:\n",
    "        * data - датафрейм с данными\n",
    "        * stats - список стат. параметров\n",
    "\n",
    "    Возвращает:\n",
    "        * df - датафрейм с описанием\n",
    "    \"\"\"\n",
    "    if type(stats)!=list:\n",
    "        stats=[stats]\n",
    "    df=data.describe().T[stats]\n",
    "    return round(df, 2)"
   ]
  },
  {
   "cell_type": "code",
   "execution_count": 20,
   "metadata": {},
   "outputs": [
    {
     "data": {
      "text/html": [
       "<div>\n",
       "<style scoped>\n",
       "    .dataframe tbody tr th:only-of-type {\n",
       "        vertical-align: middle;\n",
       "    }\n",
       "\n",
       "    .dataframe tbody tr th {\n",
       "        vertical-align: top;\n",
       "    }\n",
       "\n",
       "    .dataframe thead tr th {\n",
       "        text-align: left;\n",
       "    }\n",
       "\n",
       "    .dataframe thead tr:last-of-type th {\n",
       "        text-align: right;\n",
       "    }\n",
       "</style>\n",
       "<table border=\"1\" class=\"dataframe\">\n",
       "  <thead>\n",
       "    <tr>\n",
       "      <th></th>\n",
       "      <th></th>\n",
       "      <th colspan=\"2\" halign=\"left\">mean</th>\n",
       "      <th colspan=\"2\" halign=\"left\">std</th>\n",
       "      <th colspan=\"2\" halign=\"left\">50%</th>\n",
       "    </tr>\n",
       "    <tr>\n",
       "      <th></th>\n",
       "      <th>set</th>\n",
       "      <th>test</th>\n",
       "      <th>train</th>\n",
       "      <th>test</th>\n",
       "      <th>train</th>\n",
       "      <th>test</th>\n",
       "      <th>train</th>\n",
       "    </tr>\n",
       "    <tr>\n",
       "      <th>tenure</th>\n",
       "      <th></th>\n",
       "      <th></th>\n",
       "      <th></th>\n",
       "      <th></th>\n",
       "      <th></th>\n",
       "      <th></th>\n",
       "      <th></th>\n",
       "    </tr>\n",
       "  </thead>\n",
       "  <tbody>\n",
       "    <tr>\n",
       "      <th rowspan=\"4\" valign=\"top\">4</th>\n",
       "      <th>credit_score</th>\n",
       "      <td>651.88</td>\n",
       "      <td>651.42</td>\n",
       "      <td>101.19</td>\n",
       "      <td>94.50</td>\n",
       "      <td>648.00</td>\n",
       "      <td>652.00</td>\n",
       "    </tr>\n",
       "    <tr>\n",
       "      <th>age</th>\n",
       "      <td>39.59</td>\n",
       "      <td>37.93</td>\n",
       "      <td>10.42</td>\n",
       "      <td>10.26</td>\n",
       "      <td>38.00</td>\n",
       "      <td>37.00</td>\n",
       "    </tr>\n",
       "    <tr>\n",
       "      <th>balance</th>\n",
       "      <td>76935.45</td>\n",
       "      <td>73393.21</td>\n",
       "      <td>61787.76</td>\n",
       "      <td>61539.48</td>\n",
       "      <td>96403.25</td>\n",
       "      <td>92805.72</td>\n",
       "    </tr>\n",
       "    <tr>\n",
       "      <th>estimated_salary</th>\n",
       "      <td>98639.97</td>\n",
       "      <td>100152.18</td>\n",
       "      <td>56240.73</td>\n",
       "      <td>58224.27</td>\n",
       "      <td>103862.01</td>\n",
       "      <td>100998.50</td>\n",
       "    </tr>\n",
       "    <tr>\n",
       "      <th rowspan=\"4\" valign=\"top\">5</th>\n",
       "      <th>credit_score</th>\n",
       "      <td>643.28</td>\n",
       "      <td>652.13</td>\n",
       "      <td>87.64</td>\n",
       "      <td>98.23</td>\n",
       "      <td>640.00</td>\n",
       "      <td>656.00</td>\n",
       "    </tr>\n",
       "    <tr>\n",
       "      <th>age</th>\n",
       "      <td>39.36</td>\n",
       "      <td>39.27</td>\n",
       "      <td>11.19</td>\n",
       "      <td>10.63</td>\n",
       "      <td>37.00</td>\n",
       "      <td>38.00</td>\n",
       "    </tr>\n",
       "    <tr>\n",
       "      <th>balance</th>\n",
       "      <td>79939.63</td>\n",
       "      <td>75672.69</td>\n",
       "      <td>62623.13</td>\n",
       "      <td>63606.52</td>\n",
       "      <td>98400.61</td>\n",
       "      <td>94754.00</td>\n",
       "    </tr>\n",
       "    <tr>\n",
       "      <th>estimated_salary</th>\n",
       "      <td>102913.86</td>\n",
       "      <td>100926.67</td>\n",
       "      <td>53938.63</td>\n",
       "      <td>56331.58</td>\n",
       "      <td>103269.00</td>\n",
       "      <td>101192.08</td>\n",
       "    </tr>\n",
       "    <tr>\n",
       "      <th rowspan=\"4\" valign=\"top\">9</th>\n",
       "      <th>credit_score</th>\n",
       "      <td>650.36</td>\n",
       "      <td>654.56</td>\n",
       "      <td>100.39</td>\n",
       "      <td>95.31</td>\n",
       "      <td>667.00</td>\n",
       "      <td>653.00</td>\n",
       "    </tr>\n",
       "    <tr>\n",
       "      <th>age</th>\n",
       "      <td>39.87</td>\n",
       "      <td>39.20</td>\n",
       "      <td>10.58</td>\n",
       "      <td>10.57</td>\n",
       "      <td>37.00</td>\n",
       "      <td>38.00</td>\n",
       "    </tr>\n",
       "    <tr>\n",
       "      <th>balance</th>\n",
       "      <td>77217.61</td>\n",
       "      <td>76378.31</td>\n",
       "      <td>61479.62</td>\n",
       "      <td>62874.32</td>\n",
       "      <td>98926.30</td>\n",
       "      <td>100309.02</td>\n",
       "    </tr>\n",
       "    <tr>\n",
       "      <th>estimated_salary</th>\n",
       "      <td>91497.77</td>\n",
       "      <td>101643.91</td>\n",
       "      <td>60390.79</td>\n",
       "      <td>56748.22</td>\n",
       "      <td>81971.23</td>\n",
       "      <td>101010.10</td>\n",
       "    </tr>\n",
       "    <tr>\n",
       "      <th rowspan=\"4\" valign=\"top\">10</th>\n",
       "      <th>credit_score</th>\n",
       "      <td>654.32</td>\n",
       "      <td>653.57</td>\n",
       "      <td>96.93</td>\n",
       "      <td>96.04</td>\n",
       "      <td>651.00</td>\n",
       "      <td>655.00</td>\n",
       "    </tr>\n",
       "    <tr>\n",
       "      <th>age</th>\n",
       "      <td>39.80</td>\n",
       "      <td>38.99</td>\n",
       "      <td>12.39</td>\n",
       "      <td>10.46</td>\n",
       "      <td>39.00</td>\n",
       "      <td>38.00</td>\n",
       "    </tr>\n",
       "    <tr>\n",
       "      <th>balance</th>\n",
       "      <td>80314.26</td>\n",
       "      <td>72351.13</td>\n",
       "      <td>64154.74</td>\n",
       "      <td>59712.06</td>\n",
       "      <td>95502.21</td>\n",
       "      <td>91760.11</td>\n",
       "    </tr>\n",
       "    <tr>\n",
       "      <th>estimated_salary</th>\n",
       "      <td>96668.20</td>\n",
       "      <td>104320.81</td>\n",
       "      <td>58382.33</td>\n",
       "      <td>56765.34</td>\n",
       "      <td>97893.40</td>\n",
       "      <td>102517.83</td>\n",
       "    </tr>\n",
       "  </tbody>\n",
       "</table>\n",
       "</div>"
      ],
      "text/plain": [
       "                              mean                  std                  50%  \\\n",
       "set                           test      train      test     train       test   \n",
       "tenure                                                                         \n",
       "4      credit_score         651.88     651.42    101.19     94.50     648.00   \n",
       "       age                   39.59      37.93     10.42     10.26      38.00   \n",
       "       balance            76935.45   73393.21  61787.76  61539.48   96403.25   \n",
       "       estimated_salary   98639.97  100152.18  56240.73  58224.27  103862.01   \n",
       "5      credit_score         643.28     652.13     87.64     98.23     640.00   \n",
       "       age                   39.36      39.27     11.19     10.63      37.00   \n",
       "       balance            79939.63   75672.69  62623.13  63606.52   98400.61   \n",
       "       estimated_salary  102913.86  100926.67  53938.63  56331.58  103269.00   \n",
       "9      credit_score         650.36     654.56    100.39     95.31     667.00   \n",
       "       age                   39.87      39.20     10.58     10.57      37.00   \n",
       "       balance            77217.61   76378.31  61479.62  62874.32   98926.30   \n",
       "       estimated_salary   91497.77  101643.91  60390.79  56748.22   81971.23   \n",
       "10     credit_score         654.32     653.57     96.93     96.04     651.00   \n",
       "       age                   39.80      38.99     12.39     10.46      39.00   \n",
       "       balance            80314.26   72351.13  64154.74  59712.06   95502.21   \n",
       "       estimated_salary   96668.20  104320.81  58382.33  56765.34   97893.40   \n",
       "\n",
       "                                    \n",
       "set                          train  \n",
       "tenure                              \n",
       "4      credit_score         652.00  \n",
       "       age                   37.00  \n",
       "       balance            92805.72  \n",
       "       estimated_salary  100998.50  \n",
       "5      credit_score         656.00  \n",
       "       age                   38.00  \n",
       "       balance            94754.00  \n",
       "       estimated_salary  101192.08  \n",
       "9      credit_score         653.00  \n",
       "       age                   38.00  \n",
       "       balance           100309.02  \n",
       "       estimated_salary  101010.10  \n",
       "10     credit_score         655.00  \n",
       "       age                   38.00  \n",
       "       balance            91760.11  \n",
       "       estimated_salary  102517.83  "
      ]
     },
     "execution_count": 20,
     "metadata": {},
     "output_type": "execute_result"
    }
   ],
   "source": [
    "(\n",
    "    erroneous_tenures\n",
    "    .groupby(['tenure', 'set'])[cont_features].apply(lambda x: get_description(x))\n",
    "    .unstack(level=1)\n",
    ")"
   ]
  },
  {
   "cell_type": "markdown",
   "metadata": {},
   "source": [
    "> По категориям 4 и 5 сравнение показало, что наблюдается разница распределений по полю `credit_score` между тренировочным и тестовым сетом.  \n",
    "> По категории 9 сравнение показало, что наблюдается разница распределений по полю `estimated_salary` между тренировочным и тестовым сетом. \n",
    "> По категории 10 сравнение показало, что наблюдается разница распределений по полю `balance` между тренировочным и тестовым сетом."
   ]
  },
  {
   "cell_type": "code",
   "execution_count": 21,
   "metadata": {},
   "outputs": [
    {
     "data": {
      "image/png": "[encoded data removed]",
      "text/plain": [
       "<Figure size 2500x500 with 3 Axes>"
      ]
     },
     "metadata": {},
     "output_type": "display_data"
    }
   ],
   "source": [
    "fig, axes = plt.subplots(1, 3, figsize=(25, 5))\n",
    " \n",
    "#fig.suptitle('')\n",
    " \n",
    "sns.histplot(ax=axes[0], data=df, x='credit_score')\n",
    "sns.histplot(ax=axes[1], data=df, x='estimated_salary')\n",
    "sns.histplot(ax=axes[2], data=df, x='balance')\n",
    "\n",
    "plt.show();"
   ]
  },
  {
   "cell_type": "code",
   "execution_count": 22,
   "metadata": {},
   "outputs": [],
   "source": [
    "df['credit_score_bin']=pd.cut(df['credit_score'], bins=[-np.inf, 600, 700, +np.inf], labels=['<=600', '<=700', '>700']).astype(object)\n",
    "df['salary_bin']=pd.cut(df['estimated_salary'], bins=[-np.inf, 50000, 100000, 150000, +np.inf], labels=['<=50000', '<=100000', '<=150000', '>150000']).astype(object)\n",
    "df['balance_bin']=pd.cut(df['balance'], bins=[-np.inf, 90000, 150000, +np.inf], labels=['<=90000', '<=150000', '>150000'])"
   ]
  },
  {
   "cell_type": "code",
   "execution_count": 23,
   "metadata": {},
   "outputs": [],
   "source": [
    "cat_features_2=cat_features[:-1] + ['credit_score_bin', 'salary_bin', 'balance_bin', 'tenure']"
   ]
  },
  {
   "cell_type": "code",
   "execution_count": 24,
   "metadata": {},
   "outputs": [
    {
     "data": {
      "application/vnd.jupyter.widget-view+json": {
       "model_id": "44fb86d661ce4786a407a63703ee056c",
       "version_major": 2,
       "version_minor": 0
      },
      "text/plain": [
       "MetricVisualizer(layout=Layout(align_self='stretch', height='500px'))"
      ]
     },
     "metadata": {},
     "output_type": "display_data"
    },
    {
     "name": "stdout",
     "output_type": "stream",
     "text": [
      "auc_train: 0.7361\n",
      "auc_test: 0.7254\n"
     ]
    }
   ],
   "source": [
    "model_2, X_train_2, y_train_2, X_test_2, y_test_2, auc_train_2, auc_test_2 = fn.build_model(df, cat_features_2, 'classifier')"
   ]
  },
  {
   "cell_type": "code",
   "execution_count": 25,
   "metadata": {},
   "outputs": [
    {
     "data": {
      "image/png": "[encoded data removed]",
      "text/plain": [
       "<Figure size 640x480 with 1 Axes>"
      ]
     },
     "metadata": {},
     "output_type": "display_data"
    }
   ],
   "source": [
    "feature_importance_2=fn.get_feature_importance(model_2, X_train_2.columns)\n",
    "fn.plot_feature_importance(feature_importance_2)"
   ]
  },
  {
   "cell_type": "code",
   "execution_count": 26,
   "metadata": {},
   "outputs": [
    {
     "data": {
      "text/markdown": [
       "\n",
       "AUC and Counts for **tenure** sorted by AUC difference:\n"
      ],
      "text/plain": [
       "<IPython.core.display.Markdown object>"
      ]
     },
     "metadata": {},
     "output_type": "display_data"
    },
    {
     "data": {
      "text/html": [
       "<div>\n",
       "<style scoped>\n",
       "    .dataframe tbody tr th:only-of-type {\n",
       "        vertical-align: middle;\n",
       "    }\n",
       "\n",
       "    .dataframe tbody tr th {\n",
       "        vertical-align: top;\n",
       "    }\n",
       "\n",
       "    .dataframe thead th {\n",
       "        text-align: right;\n",
       "    }\n",
       "</style>\n",
       "<table border=\"1\" class=\"dataframe\">\n",
       "  <thead>\n",
       "    <tr style=\"text-align: right;\">\n",
       "      <th></th>\n",
       "      <th>Category</th>\n",
       "      <th>Train Count</th>\n",
       "      <th>Train AUC</th>\n",
       "      <th>Test Count</th>\n",
       "      <th>Test AUC</th>\n",
       "      <th>feature</th>\n",
       "    </tr>\n",
       "  </thead>\n",
       "  <tbody>\n",
       "    <tr>\n",
       "      <th>0</th>\n",
       "      <td>5</td>\n",
       "      <td>829</td>\n",
       "      <td>0.770545</td>\n",
       "      <td>183</td>\n",
       "      <td>0.697278</td>\n",
       "      <td>tenure</td>\n",
       "    </tr>\n",
       "    <tr>\n",
       "      <th>1</th>\n",
       "      <td>9</td>\n",
       "      <td>768</td>\n",
       "      <td>0.750215</td>\n",
       "      <td>216</td>\n",
       "      <td>0.691707</td>\n",
       "      <td>tenure</td>\n",
       "    </tr>\n",
       "    <tr>\n",
       "      <th>2</th>\n",
       "      <td>10</td>\n",
       "      <td>393</td>\n",
       "      <td>0.785585</td>\n",
       "      <td>97</td>\n",
       "      <td>0.731107</td>\n",
       "      <td>tenure</td>\n",
       "    </tr>\n",
       "    <tr>\n",
       "      <th>3</th>\n",
       "      <td>4</td>\n",
       "      <td>803</td>\n",
       "      <td>0.719293</td>\n",
       "      <td>186</td>\n",
       "      <td>0.667585</td>\n",
       "      <td>tenure</td>\n",
       "    </tr>\n",
       "    <tr>\n",
       "      <th>4</th>\n",
       "      <td>1</td>\n",
       "      <td>815</td>\n",
       "      <td>0.770842</td>\n",
       "      <td>220</td>\n",
       "      <td>0.742242</td>\n",
       "      <td>tenure</td>\n",
       "    </tr>\n",
       "    <tr>\n",
       "      <th>5</th>\n",
       "      <td>8</td>\n",
       "      <td>805</td>\n",
       "      <td>0.723474</td>\n",
       "      <td>220</td>\n",
       "      <td>0.721910</td>\n",
       "      <td>tenure</td>\n",
       "    </tr>\n",
       "    <tr>\n",
       "      <th>6</th>\n",
       "      <td>6</td>\n",
       "      <td>777</td>\n",
       "      <td>0.698161</td>\n",
       "      <td>190</td>\n",
       "      <td>0.703947</td>\n",
       "      <td>tenure</td>\n",
       "    </tr>\n",
       "    <tr>\n",
       "      <th>7</th>\n",
       "      <td>3</td>\n",
       "      <td>801</td>\n",
       "      <td>0.723114</td>\n",
       "      <td>208</td>\n",
       "      <td>0.745582</td>\n",
       "      <td>tenure</td>\n",
       "    </tr>\n",
       "    <tr>\n",
       "      <th>8</th>\n",
       "      <td>0</td>\n",
       "      <td>333</td>\n",
       "      <td>0.700642</td>\n",
       "      <td>80</td>\n",
       "      <td>0.735897</td>\n",
       "      <td>tenure</td>\n",
       "    </tr>\n",
       "    <tr>\n",
       "      <th>9</th>\n",
       "      <td>2</td>\n",
       "      <td>844</td>\n",
       "      <td>0.736019</td>\n",
       "      <td>204</td>\n",
       "      <td>0.797178</td>\n",
       "      <td>tenure</td>\n",
       "    </tr>\n",
       "    <tr>\n",
       "      <th>10</th>\n",
       "      <td>7</td>\n",
       "      <td>832</td>\n",
       "      <td>0.717101</td>\n",
       "      <td>196</td>\n",
       "      <td>0.784117</td>\n",
       "      <td>tenure</td>\n",
       "    </tr>\n",
       "  </tbody>\n",
       "</table>\n",
       "</div>"
      ],
      "text/plain": [
       "   Category  Train Count  Train AUC  Test Count  Test AUC feature\n",
       "0         5          829   0.770545         183  0.697278  tenure\n",
       "1         9          768   0.750215         216  0.691707  tenure\n",
       "2        10          393   0.785585          97  0.731107  tenure\n",
       "3         4          803   0.719293         186  0.667585  tenure\n",
       "4         1          815   0.770842         220  0.742242  tenure\n",
       "5         8          805   0.723474         220  0.721910  tenure\n",
       "6         6          777   0.698161         190  0.703947  tenure\n",
       "7         3          801   0.723114         208  0.745582  tenure\n",
       "8         0          333   0.700642          80  0.735897  tenure\n",
       "9         2          844   0.736019         204  0.797178  tenure\n",
       "10        7          832   0.717101         196  0.784117  tenure"
      ]
     },
     "metadata": {},
     "output_type": "display_data"
    },
    {
     "name": "stdout",
     "output_type": "stream",
     "text": [
      "\n",
      "--------------------------------------------------\n",
      "\n"
     ]
    },
    {
     "data": {
      "text/markdown": [
       "\n",
       "AUC and Counts for **credit_score_bin** sorted by AUC difference:\n"
      ],
      "text/plain": [
       "<IPython.core.display.Markdown object>"
      ]
     },
     "metadata": {},
     "output_type": "display_data"
    },
    {
     "data": {
      "text/html": [
       "<div>\n",
       "<style scoped>\n",
       "    .dataframe tbody tr th:only-of-type {\n",
       "        vertical-align: middle;\n",
       "    }\n",
       "\n",
       "    .dataframe tbody tr th {\n",
       "        vertical-align: top;\n",
       "    }\n",
       "\n",
       "    .dataframe thead th {\n",
       "        text-align: right;\n",
       "    }\n",
       "</style>\n",
       "<table border=\"1\" class=\"dataframe\">\n",
       "  <thead>\n",
       "    <tr style=\"text-align: right;\">\n",
       "      <th></th>\n",
       "      <th>Category</th>\n",
       "      <th>Train Count</th>\n",
       "      <th>Train AUC</th>\n",
       "      <th>Test Count</th>\n",
       "      <th>Test AUC</th>\n",
       "      <th>feature</th>\n",
       "    </tr>\n",
       "  </thead>\n",
       "  <tbody>\n",
       "    <tr>\n",
       "      <th>11</th>\n",
       "      <td>&lt;=700</td>\n",
       "      <td>3073</td>\n",
       "      <td>0.731947</td>\n",
       "      <td>745</td>\n",
       "      <td>0.703649</td>\n",
       "      <td>credit_score_bin</td>\n",
       "    </tr>\n",
       "    <tr>\n",
       "      <th>12</th>\n",
       "      <td>&gt;700</td>\n",
       "      <td>2526</td>\n",
       "      <td>0.734153</td>\n",
       "      <td>590</td>\n",
       "      <td>0.713034</td>\n",
       "      <td>credit_score_bin</td>\n",
       "    </tr>\n",
       "    <tr>\n",
       "      <th>13</th>\n",
       "      <td>&lt;=600</td>\n",
       "      <td>2401</td>\n",
       "      <td>0.742584</td>\n",
       "      <td>665</td>\n",
       "      <td>0.758514</td>\n",
       "      <td>credit_score_bin</td>\n",
       "    </tr>\n",
       "  </tbody>\n",
       "</table>\n",
       "</div>"
      ],
      "text/plain": [
       "   Category  Train Count  Train AUC  Test Count  Test AUC           feature\n",
       "11    <=700         3073   0.731947         745  0.703649  credit_score_bin\n",
       "12     >700         2526   0.734153         590  0.713034  credit_score_bin\n",
       "13    <=600         2401   0.742584         665  0.758514  credit_score_bin"
      ]
     },
     "metadata": {},
     "output_type": "display_data"
    },
    {
     "name": "stdout",
     "output_type": "stream",
     "text": [
      "\n",
      "--------------------------------------------------\n",
      "\n"
     ]
    },
    {
     "data": {
      "text/markdown": [
       "\n",
       "AUC and Counts for **salary_bin** sorted by AUC difference:\n"
      ],
      "text/plain": [
       "<IPython.core.display.Markdown object>"
      ]
     },
     "metadata": {},
     "output_type": "display_data"
    },
    {
     "data": {
      "text/html": [
       "<div>\n",
       "<style scoped>\n",
       "    .dataframe tbody tr th:only-of-type {\n",
       "        vertical-align: middle;\n",
       "    }\n",
       "\n",
       "    .dataframe tbody tr th {\n",
       "        vertical-align: top;\n",
       "    }\n",
       "\n",
       "    .dataframe thead th {\n",
       "        text-align: right;\n",
       "    }\n",
       "</style>\n",
       "<table border=\"1\" class=\"dataframe\">\n",
       "  <thead>\n",
       "    <tr style=\"text-align: right;\">\n",
       "      <th></th>\n",
       "      <th>Category</th>\n",
       "      <th>Train Count</th>\n",
       "      <th>Train AUC</th>\n",
       "      <th>Test Count</th>\n",
       "      <th>Test AUC</th>\n",
       "      <th>feature</th>\n",
       "    </tr>\n",
       "  </thead>\n",
       "  <tbody>\n",
       "    <tr>\n",
       "      <th>14</th>\n",
       "      <td>&gt;150000</td>\n",
       "      <td>1981</td>\n",
       "      <td>0.762030</td>\n",
       "      <td>474</td>\n",
       "      <td>0.737066</td>\n",
       "      <td>salary_bin</td>\n",
       "    </tr>\n",
       "    <tr>\n",
       "      <th>15</th>\n",
       "      <td>&lt;=150000</td>\n",
       "      <td>2042</td>\n",
       "      <td>0.728201</td>\n",
       "      <td>513</td>\n",
       "      <td>0.710787</td>\n",
       "      <td>salary_bin</td>\n",
       "    </tr>\n",
       "    <tr>\n",
       "      <th>16</th>\n",
       "      <td>&lt;=100000</td>\n",
       "      <td>2031</td>\n",
       "      <td>0.711716</td>\n",
       "      <td>506</td>\n",
       "      <td>0.702911</td>\n",
       "      <td>salary_bin</td>\n",
       "    </tr>\n",
       "    <tr>\n",
       "      <th>17</th>\n",
       "      <td>&lt;=50000</td>\n",
       "      <td>1946</td>\n",
       "      <td>0.742828</td>\n",
       "      <td>507</td>\n",
       "      <td>0.746028</td>\n",
       "      <td>salary_bin</td>\n",
       "    </tr>\n",
       "  </tbody>\n",
       "</table>\n",
       "</div>"
      ],
      "text/plain": [
       "    Category  Train Count  Train AUC  Test Count  Test AUC     feature\n",
       "14   >150000         1981   0.762030         474  0.737066  salary_bin\n",
       "15  <=150000         2042   0.728201         513  0.710787  salary_bin\n",
       "16  <=100000         2031   0.711716         506  0.702911  salary_bin\n",
       "17   <=50000         1946   0.742828         507  0.746028  salary_bin"
      ]
     },
     "metadata": {},
     "output_type": "display_data"
    },
    {
     "name": "stdout",
     "output_type": "stream",
     "text": [
      "\n",
      "--------------------------------------------------\n",
      "\n"
     ]
    },
    {
     "data": {
      "text/markdown": [
       "\n",
       "AUC and Counts for **balance_bin** sorted by AUC difference:\n"
      ],
      "text/plain": [
       "<IPython.core.display.Markdown object>"
      ]
     },
     "metadata": {},
     "output_type": "display_data"
    },
    {
     "data": {
      "text/html": [
       "<div>\n",
       "<style scoped>\n",
       "    .dataframe tbody tr th:only-of-type {\n",
       "        vertical-align: middle;\n",
       "    }\n",
       "\n",
       "    .dataframe tbody tr th {\n",
       "        vertical-align: top;\n",
       "    }\n",
       "\n",
       "    .dataframe thead th {\n",
       "        text-align: right;\n",
       "    }\n",
       "</style>\n",
       "<table border=\"1\" class=\"dataframe\">\n",
       "  <thead>\n",
       "    <tr style=\"text-align: right;\">\n",
       "      <th></th>\n",
       "      <th>Category</th>\n",
       "      <th>Train Count</th>\n",
       "      <th>Train AUC</th>\n",
       "      <th>Test Count</th>\n",
       "      <th>Test AUC</th>\n",
       "      <th>feature</th>\n",
       "    </tr>\n",
       "  </thead>\n",
       "  <tbody>\n",
       "    <tr>\n",
       "      <th>18</th>\n",
       "      <td>&gt;150000</td>\n",
       "      <td>775</td>\n",
       "      <td>0.719730</td>\n",
       "      <td>194</td>\n",
       "      <td>0.681285</td>\n",
       "      <td>balance_bin</td>\n",
       "    </tr>\n",
       "    <tr>\n",
       "      <th>19</th>\n",
       "      <td>&lt;=150000</td>\n",
       "      <td>3510</td>\n",
       "      <td>0.743359</td>\n",
       "      <td>919</td>\n",
       "      <td>0.726348</td>\n",
       "      <td>balance_bin</td>\n",
       "    </tr>\n",
       "    <tr>\n",
       "      <th>20</th>\n",
       "      <td>&lt;=90000</td>\n",
       "      <td>3715</td>\n",
       "      <td>0.724601</td>\n",
       "      <td>887</td>\n",
       "      <td>0.732891</td>\n",
       "      <td>balance_bin</td>\n",
       "    </tr>\n",
       "  </tbody>\n",
       "</table>\n",
       "</div>"
      ],
      "text/plain": [
       "    Category  Train Count  Train AUC  Test Count  Test AUC      feature\n",
       "18   >150000          775   0.719730         194  0.681285  balance_bin\n",
       "19  <=150000         3510   0.743359         919  0.726348  balance_bin\n",
       "20   <=90000         3715   0.724601         887  0.732891  balance_bin"
      ]
     },
     "metadata": {},
     "output_type": "display_data"
    },
    {
     "name": "stdout",
     "output_type": "stream",
     "text": [
      "\n",
      "--------------------------------------------------\n",
      "\n"
     ]
    }
   ],
   "source": [
    "fn.print_in_sequence(\n",
    "    fn.get_auc_per_category(model_2, X_train_2, y_train_2, X_test_2, y_test_2, ['tenure', 'credit_score_bin', 'salary_bin', 'balance_bin']), \n",
    "    'feature', \n",
    "    '\\nAUC and Counts for **{}** sorted by AUC difference:\\n'\n",
    ")\n"
   ]
  },
  {
   "cell_type": "markdown",
   "metadata": {},
   "source": [
    "> Результат показывает, что по полю `tenure` удалось уменьшить разрыв между тренировочной и тестовой метриками, но незначительно.  \n",
    "> Также это привело к снижению общей метрики на несколько процентных пунктов."
   ]
  },
  {
   "cell_type": "markdown",
   "metadata": {},
   "source": [
    "##### Сравниваем по категориальным предикторам"
   ]
  },
  {
   "cell_type": "code",
   "execution_count": 27,
   "metadata": {},
   "outputs": [],
   "source": [
    "erroneous_tenures=pd.concat([\n",
    "    X_train_2.query(\"tenure.isin(@tenures_list)\").assign(set='train'),\n",
    "    X_test_2.query(\"tenure.isin(@tenures_list)\").assign(set='test')\n",
    "], ignore_index=True)"
   ]
  },
  {
   "cell_type": "code",
   "execution_count": 28,
   "metadata": {},
   "outputs": [],
   "source": [
    "cat_proportions=pd.concat(\n",
    "    list(map(\n",
    "        lambda x: (\n",
    "            erroneous_tenures\n",
    "            .groupby(['set', 'tenure'])[x].value_counts(normalize=True)\n",
    "            .unstack(level=0)\n",
    "            .assign(feature=x)\n",
    "            .reset_index()\n",
    "            .rename(columns={x:'category'})\n",
    "        ),\n",
    "        cat_features_2[:-1]\n",
    "    )),\n",
    "    #ignore_index=True\n",
    ")\n",
    "cat_proportions.columns.name=None "
   ]
  },
  {
   "cell_type": "code",
   "execution_count": 29,
   "metadata": {},
   "outputs": [
    {
     "name": "stdout",
     "output_type": "stream",
     "text": [
      "# COUNTRY\n"
     ]
    },
    {
     "data": {
      "text/markdown": [
       "proportions comparison for **4 years** tenure"
      ],
      "text/plain": [
       "<IPython.core.display.Markdown object>"
      ]
     },
     "metadata": {},
     "output_type": "display_data"
    },
    {
     "data": {
      "text/html": [
       "<div>\n",
       "<style scoped>\n",
       "    .dataframe tbody tr th:only-of-type {\n",
       "        vertical-align: middle;\n",
       "    }\n",
       "\n",
       "    .dataframe tbody tr th {\n",
       "        vertical-align: top;\n",
       "    }\n",
       "\n",
       "    .dataframe thead th {\n",
       "        text-align: right;\n",
       "    }\n",
       "</style>\n",
       "<table border=\"1\" class=\"dataframe\">\n",
       "  <thead>\n",
       "    <tr style=\"text-align: right;\">\n",
       "      <th></th>\n",
       "      <th>tenure</th>\n",
       "      <th>category</th>\n",
       "      <th>test</th>\n",
       "      <th>train</th>\n",
       "      <th>feature</th>\n",
       "    </tr>\n",
       "  </thead>\n",
       "  <tbody>\n",
       "    <tr>\n",
       "      <th>0</th>\n",
       "      <td>4</td>\n",
       "      <td>France</td>\n",
       "      <td>0.489247</td>\n",
       "      <td>0.524284</td>\n",
       "      <td>country</td>\n",
       "    </tr>\n",
       "    <tr>\n",
       "      <th>1</th>\n",
       "      <td>4</td>\n",
       "      <td>Germany</td>\n",
       "      <td>0.252688</td>\n",
       "      <td>0.230386</td>\n",
       "      <td>country</td>\n",
       "    </tr>\n",
       "    <tr>\n",
       "      <th>2</th>\n",
       "      <td>4</td>\n",
       "      <td>Spain</td>\n",
       "      <td>0.258065</td>\n",
       "      <td>0.245330</td>\n",
       "      <td>country</td>\n",
       "    </tr>\n",
       "  </tbody>\n",
       "</table>\n",
       "</div>"
      ],
      "text/plain": [
       "   tenure category      test     train  feature\n",
       "0       4   France  0.489247  0.524284  country\n",
       "1       4  Germany  0.252688  0.230386  country\n",
       "2       4    Spain  0.258065  0.245330  country"
      ]
     },
     "metadata": {},
     "output_type": "display_data"
    },
    {
     "name": "stdout",
     "output_type": "stream",
     "text": [
      "\n",
      "--------------------------------------------------\n",
      "\n"
     ]
    },
    {
     "data": {
      "text/markdown": [
       "proportions comparison for **5 years** tenure"
      ],
      "text/plain": [
       "<IPython.core.display.Markdown object>"
      ]
     },
     "metadata": {},
     "output_type": "display_data"
    },
    {
     "data": {
      "text/html": [
       "<div>\n",
       "<style scoped>\n",
       "    .dataframe tbody tr th:only-of-type {\n",
       "        vertical-align: middle;\n",
       "    }\n",
       "\n",
       "    .dataframe tbody tr th {\n",
       "        vertical-align: top;\n",
       "    }\n",
       "\n",
       "    .dataframe thead th {\n",
       "        text-align: right;\n",
       "    }\n",
       "</style>\n",
       "<table border=\"1\" class=\"dataframe\">\n",
       "  <thead>\n",
       "    <tr style=\"text-align: right;\">\n",
       "      <th></th>\n",
       "      <th>tenure</th>\n",
       "      <th>category</th>\n",
       "      <th>test</th>\n",
       "      <th>train</th>\n",
       "      <th>feature</th>\n",
       "    </tr>\n",
       "  </thead>\n",
       "  <tbody>\n",
       "    <tr>\n",
       "      <th>3</th>\n",
       "      <td>5</td>\n",
       "      <td>France</td>\n",
       "      <td>0.453552</td>\n",
       "      <td>0.484922</td>\n",
       "      <td>country</td>\n",
       "    </tr>\n",
       "    <tr>\n",
       "      <th>4</th>\n",
       "      <td>5</td>\n",
       "      <td>Germany</td>\n",
       "      <td>0.278689</td>\n",
       "      <td>0.250905</td>\n",
       "      <td>country</td>\n",
       "    </tr>\n",
       "    <tr>\n",
       "      <th>5</th>\n",
       "      <td>5</td>\n",
       "      <td>Spain</td>\n",
       "      <td>0.267760</td>\n",
       "      <td>0.264174</td>\n",
       "      <td>country</td>\n",
       "    </tr>\n",
       "  </tbody>\n",
       "</table>\n",
       "</div>"
      ],
      "text/plain": [
       "   tenure category      test     train  feature\n",
       "3       5   France  0.453552  0.484922  country\n",
       "4       5  Germany  0.278689  0.250905  country\n",
       "5       5    Spain  0.267760  0.264174  country"
      ]
     },
     "metadata": {},
     "output_type": "display_data"
    },
    {
     "name": "stdout",
     "output_type": "stream",
     "text": [
      "\n",
      "--------------------------------------------------\n",
      "\n"
     ]
    },
    {
     "data": {
      "text/markdown": [
       "proportions comparison for **9 years** tenure"
      ],
      "text/plain": [
       "<IPython.core.display.Markdown object>"
      ]
     },
     "metadata": {},
     "output_type": "display_data"
    },
    {
     "data": {
      "text/html": [
       "<div>\n",
       "<style scoped>\n",
       "    .dataframe tbody tr th:only-of-type {\n",
       "        vertical-align: middle;\n",
       "    }\n",
       "\n",
       "    .dataframe tbody tr th {\n",
       "        vertical-align: top;\n",
       "    }\n",
       "\n",
       "    .dataframe thead th {\n",
       "        text-align: right;\n",
       "    }\n",
       "</style>\n",
       "<table border=\"1\" class=\"dataframe\">\n",
       "  <thead>\n",
       "    <tr style=\"text-align: right;\">\n",
       "      <th></th>\n",
       "      <th>tenure</th>\n",
       "      <th>category</th>\n",
       "      <th>test</th>\n",
       "      <th>train</th>\n",
       "      <th>feature</th>\n",
       "    </tr>\n",
       "  </thead>\n",
       "  <tbody>\n",
       "    <tr>\n",
       "      <th>6</th>\n",
       "      <td>9</td>\n",
       "      <td>France</td>\n",
       "      <td>0.518519</td>\n",
       "      <td>0.510417</td>\n",
       "      <td>country</td>\n",
       "    </tr>\n",
       "    <tr>\n",
       "      <th>7</th>\n",
       "      <td>9</td>\n",
       "      <td>Germany</td>\n",
       "      <td>0.296296</td>\n",
       "      <td>0.266927</td>\n",
       "      <td>country</td>\n",
       "    </tr>\n",
       "    <tr>\n",
       "      <th>8</th>\n",
       "      <td>9</td>\n",
       "      <td>Spain</td>\n",
       "      <td>0.185185</td>\n",
       "      <td>0.222656</td>\n",
       "      <td>country</td>\n",
       "    </tr>\n",
       "  </tbody>\n",
       "</table>\n",
       "</div>"
      ],
      "text/plain": [
       "   tenure category      test     train  feature\n",
       "6       9   France  0.518519  0.510417  country\n",
       "7       9  Germany  0.296296  0.266927  country\n",
       "8       9    Spain  0.185185  0.222656  country"
      ]
     },
     "metadata": {},
     "output_type": "display_data"
    },
    {
     "name": "stdout",
     "output_type": "stream",
     "text": [
      "\n",
      "--------------------------------------------------\n",
      "\n"
     ]
    },
    {
     "data": {
      "text/markdown": [
       "proportions comparison for **10 years** tenure"
      ],
      "text/plain": [
       "<IPython.core.display.Markdown object>"
      ]
     },
     "metadata": {},
     "output_type": "display_data"
    },
    {
     "data": {
      "text/html": [
       "<div>\n",
       "<style scoped>\n",
       "    .dataframe tbody tr th:only-of-type {\n",
       "        vertical-align: middle;\n",
       "    }\n",
       "\n",
       "    .dataframe tbody tr th {\n",
       "        vertical-align: top;\n",
       "    }\n",
       "\n",
       "    .dataframe thead th {\n",
       "        text-align: right;\n",
       "    }\n",
       "</style>\n",
       "<table border=\"1\" class=\"dataframe\">\n",
       "  <thead>\n",
       "    <tr style=\"text-align: right;\">\n",
       "      <th></th>\n",
       "      <th>tenure</th>\n",
       "      <th>category</th>\n",
       "      <th>test</th>\n",
       "      <th>train</th>\n",
       "      <th>feature</th>\n",
       "    </tr>\n",
       "  </thead>\n",
       "  <tbody>\n",
       "    <tr>\n",
       "      <th>9</th>\n",
       "      <td>10</td>\n",
       "      <td>France</td>\n",
       "      <td>0.515464</td>\n",
       "      <td>0.491094</td>\n",
       "      <td>country</td>\n",
       "    </tr>\n",
       "    <tr>\n",
       "      <th>10</th>\n",
       "      <td>10</td>\n",
       "      <td>Germany</td>\n",
       "      <td>0.226804</td>\n",
       "      <td>0.269720</td>\n",
       "      <td>country</td>\n",
       "    </tr>\n",
       "    <tr>\n",
       "      <th>11</th>\n",
       "      <td>10</td>\n",
       "      <td>Spain</td>\n",
       "      <td>0.257732</td>\n",
       "      <td>0.239186</td>\n",
       "      <td>country</td>\n",
       "    </tr>\n",
       "  </tbody>\n",
       "</table>\n",
       "</div>"
      ],
      "text/plain": [
       "    tenure category      test     train  feature\n",
       "9       10   France  0.515464  0.491094  country\n",
       "10      10  Germany  0.226804  0.269720  country\n",
       "11      10    Spain  0.257732  0.239186  country"
      ]
     },
     "metadata": {},
     "output_type": "display_data"
    },
    {
     "name": "stdout",
     "output_type": "stream",
     "text": [
      "\n",
      "--------------------------------------------------\n",
      "\n",
      "# GENDER\n"
     ]
    },
    {
     "data": {
      "text/markdown": [
       "proportions comparison for **4 years** tenure"
      ],
      "text/plain": [
       "<IPython.core.display.Markdown object>"
      ]
     },
     "metadata": {},
     "output_type": "display_data"
    },
    {
     "data": {
      "text/html": [
       "<div>\n",
       "<style scoped>\n",
       "    .dataframe tbody tr th:only-of-type {\n",
       "        vertical-align: middle;\n",
       "    }\n",
       "\n",
       "    .dataframe tbody tr th {\n",
       "        vertical-align: top;\n",
       "    }\n",
       "\n",
       "    .dataframe thead th {\n",
       "        text-align: right;\n",
       "    }\n",
       "</style>\n",
       "<table border=\"1\" class=\"dataframe\">\n",
       "  <thead>\n",
       "    <tr style=\"text-align: right;\">\n",
       "      <th></th>\n",
       "      <th>tenure</th>\n",
       "      <th>category</th>\n",
       "      <th>test</th>\n",
       "      <th>train</th>\n",
       "      <th>feature</th>\n",
       "    </tr>\n",
       "  </thead>\n",
       "  <tbody>\n",
       "    <tr>\n",
       "      <th>0</th>\n",
       "      <td>4</td>\n",
       "      <td>Female</td>\n",
       "      <td>0.451613</td>\n",
       "      <td>0.445828</td>\n",
       "      <td>gender</td>\n",
       "    </tr>\n",
       "    <tr>\n",
       "      <th>1</th>\n",
       "      <td>4</td>\n",
       "      <td>Male</td>\n",
       "      <td>0.548387</td>\n",
       "      <td>0.554172</td>\n",
       "      <td>gender</td>\n",
       "    </tr>\n",
       "  </tbody>\n",
       "</table>\n",
       "</div>"
      ],
      "text/plain": [
       "   tenure category      test     train feature\n",
       "0       4   Female  0.451613  0.445828  gender\n",
       "1       4     Male  0.548387  0.554172  gender"
      ]
     },
     "metadata": {},
     "output_type": "display_data"
    },
    {
     "name": "stdout",
     "output_type": "stream",
     "text": [
      "\n",
      "--------------------------------------------------\n",
      "\n"
     ]
    },
    {
     "data": {
      "text/markdown": [
       "proportions comparison for **5 years** tenure"
      ],
      "text/plain": [
       "<IPython.core.display.Markdown object>"
      ]
     },
     "metadata": {},
     "output_type": "display_data"
    },
    {
     "data": {
      "text/html": [
       "<div>\n",
       "<style scoped>\n",
       "    .dataframe tbody tr th:only-of-type {\n",
       "        vertical-align: middle;\n",
       "    }\n",
       "\n",
       "    .dataframe tbody tr th {\n",
       "        vertical-align: top;\n",
       "    }\n",
       "\n",
       "    .dataframe thead th {\n",
       "        text-align: right;\n",
       "    }\n",
       "</style>\n",
       "<table border=\"1\" class=\"dataframe\">\n",
       "  <thead>\n",
       "    <tr style=\"text-align: right;\">\n",
       "      <th></th>\n",
       "      <th>tenure</th>\n",
       "      <th>category</th>\n",
       "      <th>test</th>\n",
       "      <th>train</th>\n",
       "      <th>feature</th>\n",
       "    </tr>\n",
       "  </thead>\n",
       "  <tbody>\n",
       "    <tr>\n",
       "      <th>2</th>\n",
       "      <td>5</td>\n",
       "      <td>Female</td>\n",
       "      <td>0.448087</td>\n",
       "      <td>0.441496</td>\n",
       "      <td>gender</td>\n",
       "    </tr>\n",
       "    <tr>\n",
       "      <th>3</th>\n",
       "      <td>5</td>\n",
       "      <td>Male</td>\n",
       "      <td>0.551913</td>\n",
       "      <td>0.558504</td>\n",
       "      <td>gender</td>\n",
       "    </tr>\n",
       "  </tbody>\n",
       "</table>\n",
       "</div>"
      ],
      "text/plain": [
       "   tenure category      test     train feature\n",
       "2       5   Female  0.448087  0.441496  gender\n",
       "3       5     Male  0.551913  0.558504  gender"
      ]
     },
     "metadata": {},
     "output_type": "display_data"
    },
    {
     "name": "stdout",
     "output_type": "stream",
     "text": [
      "\n",
      "--------------------------------------------------\n",
      "\n"
     ]
    },
    {
     "data": {
      "text/markdown": [
       "proportions comparison for **9 years** tenure"
      ],
      "text/plain": [
       "<IPython.core.display.Markdown object>"
      ]
     },
     "metadata": {},
     "output_type": "display_data"
    },
    {
     "data": {
      "text/html": [
       "<div>\n",
       "<style scoped>\n",
       "    .dataframe tbody tr th:only-of-type {\n",
       "        vertical-align: middle;\n",
       "    }\n",
       "\n",
       "    .dataframe tbody tr th {\n",
       "        vertical-align: top;\n",
       "    }\n",
       "\n",
       "    .dataframe thead th {\n",
       "        text-align: right;\n",
       "    }\n",
       "</style>\n",
       "<table border=\"1\" class=\"dataframe\">\n",
       "  <thead>\n",
       "    <tr style=\"text-align: right;\">\n",
       "      <th></th>\n",
       "      <th>tenure</th>\n",
       "      <th>category</th>\n",
       "      <th>test</th>\n",
       "      <th>train</th>\n",
       "      <th>feature</th>\n",
       "    </tr>\n",
       "  </thead>\n",
       "  <tbody>\n",
       "    <tr>\n",
       "      <th>4</th>\n",
       "      <td>9</td>\n",
       "      <td>Female</td>\n",
       "      <td>0.472222</td>\n",
       "      <td>0.416667</td>\n",
       "      <td>gender</td>\n",
       "    </tr>\n",
       "    <tr>\n",
       "      <th>5</th>\n",
       "      <td>9</td>\n",
       "      <td>Male</td>\n",
       "      <td>0.527778</td>\n",
       "      <td>0.583333</td>\n",
       "      <td>gender</td>\n",
       "    </tr>\n",
       "  </tbody>\n",
       "</table>\n",
       "</div>"
      ],
      "text/plain": [
       "   tenure category      test     train feature\n",
       "4       9   Female  0.472222  0.416667  gender\n",
       "5       9     Male  0.527778  0.583333  gender"
      ]
     },
     "metadata": {},
     "output_type": "display_data"
    },
    {
     "name": "stdout",
     "output_type": "stream",
     "text": [
      "\n",
      "--------------------------------------------------\n",
      "\n"
     ]
    },
    {
     "data": {
      "text/markdown": [
       "proportions comparison for **10 years** tenure"
      ],
      "text/plain": [
       "<IPython.core.display.Markdown object>"
      ]
     },
     "metadata": {},
     "output_type": "display_data"
    },
    {
     "data": {
      "text/html": [
       "<div>\n",
       "<style scoped>\n",
       "    .dataframe tbody tr th:only-of-type {\n",
       "        vertical-align: middle;\n",
       "    }\n",
       "\n",
       "    .dataframe tbody tr th {\n",
       "        vertical-align: top;\n",
       "    }\n",
       "\n",
       "    .dataframe thead th {\n",
       "        text-align: right;\n",
       "    }\n",
       "</style>\n",
       "<table border=\"1\" class=\"dataframe\">\n",
       "  <thead>\n",
       "    <tr style=\"text-align: right;\">\n",
       "      <th></th>\n",
       "      <th>tenure</th>\n",
       "      <th>category</th>\n",
       "      <th>test</th>\n",
       "      <th>train</th>\n",
       "      <th>feature</th>\n",
       "    </tr>\n",
       "  </thead>\n",
       "  <tbody>\n",
       "    <tr>\n",
       "      <th>6</th>\n",
       "      <td>10</td>\n",
       "      <td>Female</td>\n",
       "      <td>0.453608</td>\n",
       "      <td>0.51145</td>\n",
       "      <td>gender</td>\n",
       "    </tr>\n",
       "    <tr>\n",
       "      <th>7</th>\n",
       "      <td>10</td>\n",
       "      <td>Male</td>\n",
       "      <td>0.546392</td>\n",
       "      <td>0.48855</td>\n",
       "      <td>gender</td>\n",
       "    </tr>\n",
       "  </tbody>\n",
       "</table>\n",
       "</div>"
      ],
      "text/plain": [
       "   tenure category      test    train feature\n",
       "6      10   Female  0.453608  0.51145  gender\n",
       "7      10     Male  0.546392  0.48855  gender"
      ]
     },
     "metadata": {},
     "output_type": "display_data"
    },
    {
     "name": "stdout",
     "output_type": "stream",
     "text": [
      "\n",
      "--------------------------------------------------\n",
      "\n",
      "# PRODUCTS_NUMBER\n"
     ]
    },
    {
     "data": {
      "text/markdown": [
       "proportions comparison for **4 years** tenure"
      ],
      "text/plain": [
       "<IPython.core.display.Markdown object>"
      ]
     },
     "metadata": {},
     "output_type": "display_data"
    },
    {
     "data": {
      "text/html": [
       "<div>\n",
       "<style scoped>\n",
       "    .dataframe tbody tr th:only-of-type {\n",
       "        vertical-align: middle;\n",
       "    }\n",
       "\n",
       "    .dataframe tbody tr th {\n",
       "        vertical-align: top;\n",
       "    }\n",
       "\n",
       "    .dataframe thead th {\n",
       "        text-align: right;\n",
       "    }\n",
       "</style>\n",
       "<table border=\"1\" class=\"dataframe\">\n",
       "  <thead>\n",
       "    <tr style=\"text-align: right;\">\n",
       "      <th></th>\n",
       "      <th>tenure</th>\n",
       "      <th>category</th>\n",
       "      <th>test</th>\n",
       "      <th>train</th>\n",
       "      <th>feature</th>\n",
       "    </tr>\n",
       "  </thead>\n",
       "  <tbody>\n",
       "    <tr>\n",
       "      <th>0</th>\n",
       "      <td>4</td>\n",
       "      <td>1</td>\n",
       "      <td>0.532258</td>\n",
       "      <td>0.504359</td>\n",
       "      <td>products_number</td>\n",
       "    </tr>\n",
       "    <tr>\n",
       "      <th>1</th>\n",
       "      <td>4</td>\n",
       "      <td>2</td>\n",
       "      <td>0.430108</td>\n",
       "      <td>0.475716</td>\n",
       "      <td>products_number</td>\n",
       "    </tr>\n",
       "    <tr>\n",
       "      <th>2</th>\n",
       "      <td>4</td>\n",
       "      <td>&gt;2</td>\n",
       "      <td>0.037634</td>\n",
       "      <td>0.019925</td>\n",
       "      <td>products_number</td>\n",
       "    </tr>\n",
       "  </tbody>\n",
       "</table>\n",
       "</div>"
      ],
      "text/plain": [
       "   tenure category      test     train          feature\n",
       "0       4        1  0.532258  0.504359  products_number\n",
       "1       4        2  0.430108  0.475716  products_number\n",
       "2       4       >2  0.037634  0.019925  products_number"
      ]
     },
     "metadata": {},
     "output_type": "display_data"
    },
    {
     "name": "stdout",
     "output_type": "stream",
     "text": [
      "\n",
      "--------------------------------------------------\n",
      "\n"
     ]
    },
    {
     "data": {
      "text/markdown": [
       "proportions comparison for **5 years** tenure"
      ],
      "text/plain": [
       "<IPython.core.display.Markdown object>"
      ]
     },
     "metadata": {},
     "output_type": "display_data"
    },
    {
     "data": {
      "text/html": [
       "<div>\n",
       "<style scoped>\n",
       "    .dataframe tbody tr th:only-of-type {\n",
       "        vertical-align: middle;\n",
       "    }\n",
       "\n",
       "    .dataframe tbody tr th {\n",
       "        vertical-align: top;\n",
       "    }\n",
       "\n",
       "    .dataframe thead th {\n",
       "        text-align: right;\n",
       "    }\n",
       "</style>\n",
       "<table border=\"1\" class=\"dataframe\">\n",
       "  <thead>\n",
       "    <tr style=\"text-align: right;\">\n",
       "      <th></th>\n",
       "      <th>tenure</th>\n",
       "      <th>category</th>\n",
       "      <th>test</th>\n",
       "      <th>train</th>\n",
       "      <th>feature</th>\n",
       "    </tr>\n",
       "  </thead>\n",
       "  <tbody>\n",
       "    <tr>\n",
       "      <th>3</th>\n",
       "      <td>5</td>\n",
       "      <td>1</td>\n",
       "      <td>0.546448</td>\n",
       "      <td>0.483715</td>\n",
       "      <td>products_number</td>\n",
       "    </tr>\n",
       "    <tr>\n",
       "      <th>4</th>\n",
       "      <td>5</td>\n",
       "      <td>2</td>\n",
       "      <td>0.387978</td>\n",
       "      <td>0.478890</td>\n",
       "      <td>products_number</td>\n",
       "    </tr>\n",
       "    <tr>\n",
       "      <th>5</th>\n",
       "      <td>5</td>\n",
       "      <td>&gt;2</td>\n",
       "      <td>0.065574</td>\n",
       "      <td>0.037394</td>\n",
       "      <td>products_number</td>\n",
       "    </tr>\n",
       "  </tbody>\n",
       "</table>\n",
       "</div>"
      ],
      "text/plain": [
       "   tenure category      test     train          feature\n",
       "3       5        1  0.546448  0.483715  products_number\n",
       "4       5        2  0.387978  0.478890  products_number\n",
       "5       5       >2  0.065574  0.037394  products_number"
      ]
     },
     "metadata": {},
     "output_type": "display_data"
    },
    {
     "name": "stdout",
     "output_type": "stream",
     "text": [
      "\n",
      "--------------------------------------------------\n",
      "\n"
     ]
    },
    {
     "data": {
      "text/markdown": [
       "proportions comparison for **9 years** tenure"
      ],
      "text/plain": [
       "<IPython.core.display.Markdown object>"
      ]
     },
     "metadata": {},
     "output_type": "display_data"
    },
    {
     "data": {
      "text/html": [
       "<div>\n",
       "<style scoped>\n",
       "    .dataframe tbody tr th:only-of-type {\n",
       "        vertical-align: middle;\n",
       "    }\n",
       "\n",
       "    .dataframe tbody tr th {\n",
       "        vertical-align: top;\n",
       "    }\n",
       "\n",
       "    .dataframe thead th {\n",
       "        text-align: right;\n",
       "    }\n",
       "</style>\n",
       "<table border=\"1\" class=\"dataframe\">\n",
       "  <thead>\n",
       "    <tr style=\"text-align: right;\">\n",
       "      <th></th>\n",
       "      <th>tenure</th>\n",
       "      <th>category</th>\n",
       "      <th>test</th>\n",
       "      <th>train</th>\n",
       "      <th>feature</th>\n",
       "    </tr>\n",
       "  </thead>\n",
       "  <tbody>\n",
       "    <tr>\n",
       "      <th>6</th>\n",
       "      <td>9</td>\n",
       "      <td>1</td>\n",
       "      <td>0.504630</td>\n",
       "      <td>0.509115</td>\n",
       "      <td>products_number</td>\n",
       "    </tr>\n",
       "    <tr>\n",
       "      <th>7</th>\n",
       "      <td>9</td>\n",
       "      <td>2</td>\n",
       "      <td>0.472222</td>\n",
       "      <td>0.454427</td>\n",
       "      <td>products_number</td>\n",
       "    </tr>\n",
       "    <tr>\n",
       "      <th>8</th>\n",
       "      <td>9</td>\n",
       "      <td>&gt;2</td>\n",
       "      <td>0.023148</td>\n",
       "      <td>0.036458</td>\n",
       "      <td>products_number</td>\n",
       "    </tr>\n",
       "  </tbody>\n",
       "</table>\n",
       "</div>"
      ],
      "text/plain": [
       "   tenure category      test     train          feature\n",
       "6       9        1  0.504630  0.509115  products_number\n",
       "7       9        2  0.472222  0.454427  products_number\n",
       "8       9       >2  0.023148  0.036458  products_number"
      ]
     },
     "metadata": {},
     "output_type": "display_data"
    },
    {
     "name": "stdout",
     "output_type": "stream",
     "text": [
      "\n",
      "--------------------------------------------------\n",
      "\n"
     ]
    },
    {
     "data": {
      "text/markdown": [
       "proportions comparison for **10 years** tenure"
      ],
      "text/plain": [
       "<IPython.core.display.Markdown object>"
      ]
     },
     "metadata": {},
     "output_type": "display_data"
    },
    {
     "data": {
      "text/html": [
       "<div>\n",
       "<style scoped>\n",
       "    .dataframe tbody tr th:only-of-type {\n",
       "        vertical-align: middle;\n",
       "    }\n",
       "\n",
       "    .dataframe tbody tr th {\n",
       "        vertical-align: top;\n",
       "    }\n",
       "\n",
       "    .dataframe thead th {\n",
       "        text-align: right;\n",
       "    }\n",
       "</style>\n",
       "<table border=\"1\" class=\"dataframe\">\n",
       "  <thead>\n",
       "    <tr style=\"text-align: right;\">\n",
       "      <th></th>\n",
       "      <th>tenure</th>\n",
       "      <th>category</th>\n",
       "      <th>test</th>\n",
       "      <th>train</th>\n",
       "      <th>feature</th>\n",
       "    </tr>\n",
       "  </thead>\n",
       "  <tbody>\n",
       "    <tr>\n",
       "      <th>9</th>\n",
       "      <td>10</td>\n",
       "      <td>1</td>\n",
       "      <td>0.515464</td>\n",
       "      <td>0.486005</td>\n",
       "      <td>products_number</td>\n",
       "    </tr>\n",
       "    <tr>\n",
       "      <th>10</th>\n",
       "      <td>10</td>\n",
       "      <td>2</td>\n",
       "      <td>0.443299</td>\n",
       "      <td>0.470738</td>\n",
       "      <td>products_number</td>\n",
       "    </tr>\n",
       "    <tr>\n",
       "      <th>11</th>\n",
       "      <td>10</td>\n",
       "      <td>&gt;2</td>\n",
       "      <td>0.041237</td>\n",
       "      <td>0.043257</td>\n",
       "      <td>products_number</td>\n",
       "    </tr>\n",
       "  </tbody>\n",
       "</table>\n",
       "</div>"
      ],
      "text/plain": [
       "    tenure category      test     train          feature\n",
       "9       10        1  0.515464  0.486005  products_number\n",
       "10      10        2  0.443299  0.470738  products_number\n",
       "11      10       >2  0.041237  0.043257  products_number"
      ]
     },
     "metadata": {},
     "output_type": "display_data"
    },
    {
     "name": "stdout",
     "output_type": "stream",
     "text": [
      "\n",
      "--------------------------------------------------\n",
      "\n",
      "# CREDIT_CARD\n"
     ]
    },
    {
     "data": {
      "text/markdown": [
       "proportions comparison for **4 years** tenure"
      ],
      "text/plain": [
       "<IPython.core.display.Markdown object>"
      ]
     },
     "metadata": {},
     "output_type": "display_data"
    },
    {
     "data": {
      "text/html": [
       "<div>\n",
       "<style scoped>\n",
       "    .dataframe tbody tr th:only-of-type {\n",
       "        vertical-align: middle;\n",
       "    }\n",
       "\n",
       "    .dataframe tbody tr th {\n",
       "        vertical-align: top;\n",
       "    }\n",
       "\n",
       "    .dataframe thead th {\n",
       "        text-align: right;\n",
       "    }\n",
       "</style>\n",
       "<table border=\"1\" class=\"dataframe\">\n",
       "  <thead>\n",
       "    <tr style=\"text-align: right;\">\n",
       "      <th></th>\n",
       "      <th>tenure</th>\n",
       "      <th>category</th>\n",
       "      <th>test</th>\n",
       "      <th>train</th>\n",
       "      <th>feature</th>\n",
       "    </tr>\n",
       "  </thead>\n",
       "  <tbody>\n",
       "    <tr>\n",
       "      <th>0</th>\n",
       "      <td>4</td>\n",
       "      <td>0</td>\n",
       "      <td>0.231183</td>\n",
       "      <td>0.295143</td>\n",
       "      <td>credit_card</td>\n",
       "    </tr>\n",
       "    <tr>\n",
       "      <th>1</th>\n",
       "      <td>4</td>\n",
       "      <td>1</td>\n",
       "      <td>0.768817</td>\n",
       "      <td>0.704857</td>\n",
       "      <td>credit_card</td>\n",
       "    </tr>\n",
       "  </tbody>\n",
       "</table>\n",
       "</div>"
      ],
      "text/plain": [
       "   tenure category      test     train      feature\n",
       "0       4        0  0.231183  0.295143  credit_card\n",
       "1       4        1  0.768817  0.704857  credit_card"
      ]
     },
     "metadata": {},
     "output_type": "display_data"
    },
    {
     "name": "stdout",
     "output_type": "stream",
     "text": [
      "\n",
      "--------------------------------------------------\n",
      "\n"
     ]
    },
    {
     "data": {
      "text/markdown": [
       "proportions comparison for **5 years** tenure"
      ],
      "text/plain": [
       "<IPython.core.display.Markdown object>"
      ]
     },
     "metadata": {},
     "output_type": "display_data"
    },
    {
     "data": {
      "text/html": [
       "<div>\n",
       "<style scoped>\n",
       "    .dataframe tbody tr th:only-of-type {\n",
       "        vertical-align: middle;\n",
       "    }\n",
       "\n",
       "    .dataframe tbody tr th {\n",
       "        vertical-align: top;\n",
       "    }\n",
       "\n",
       "    .dataframe thead th {\n",
       "        text-align: right;\n",
       "    }\n",
       "</style>\n",
       "<table border=\"1\" class=\"dataframe\">\n",
       "  <thead>\n",
       "    <tr style=\"text-align: right;\">\n",
       "      <th></th>\n",
       "      <th>tenure</th>\n",
       "      <th>category</th>\n",
       "      <th>test</th>\n",
       "      <th>train</th>\n",
       "      <th>feature</th>\n",
       "    </tr>\n",
       "  </thead>\n",
       "  <tbody>\n",
       "    <tr>\n",
       "      <th>2</th>\n",
       "      <td>5</td>\n",
       "      <td>0</td>\n",
       "      <td>0.306011</td>\n",
       "      <td>0.308806</td>\n",
       "      <td>credit_card</td>\n",
       "    </tr>\n",
       "    <tr>\n",
       "      <th>3</th>\n",
       "      <td>5</td>\n",
       "      <td>1</td>\n",
       "      <td>0.693989</td>\n",
       "      <td>0.691194</td>\n",
       "      <td>credit_card</td>\n",
       "    </tr>\n",
       "  </tbody>\n",
       "</table>\n",
       "</div>"
      ],
      "text/plain": [
       "   tenure category      test     train      feature\n",
       "2       5        0  0.306011  0.308806  credit_card\n",
       "3       5        1  0.693989  0.691194  credit_card"
      ]
     },
     "metadata": {},
     "output_type": "display_data"
    },
    {
     "name": "stdout",
     "output_type": "stream",
     "text": [
      "\n",
      "--------------------------------------------------\n",
      "\n"
     ]
    },
    {
     "data": {
      "text/markdown": [
       "proportions comparison for **9 years** tenure"
      ],
      "text/plain": [
       "<IPython.core.display.Markdown object>"
      ]
     },
     "metadata": {},
     "output_type": "display_data"
    },
    {
     "data": {
      "text/html": [
       "<div>\n",
       "<style scoped>\n",
       "    .dataframe tbody tr th:only-of-type {\n",
       "        vertical-align: middle;\n",
       "    }\n",
       "\n",
       "    .dataframe tbody tr th {\n",
       "        vertical-align: top;\n",
       "    }\n",
       "\n",
       "    .dataframe thead th {\n",
       "        text-align: right;\n",
       "    }\n",
       "</style>\n",
       "<table border=\"1\" class=\"dataframe\">\n",
       "  <thead>\n",
       "    <tr style=\"text-align: right;\">\n",
       "      <th></th>\n",
       "      <th>tenure</th>\n",
       "      <th>category</th>\n",
       "      <th>test</th>\n",
       "      <th>train</th>\n",
       "      <th>feature</th>\n",
       "    </tr>\n",
       "  </thead>\n",
       "  <tbody>\n",
       "    <tr>\n",
       "      <th>4</th>\n",
       "      <td>9</td>\n",
       "      <td>0</td>\n",
       "      <td>0.333333</td>\n",
       "      <td>0.286458</td>\n",
       "      <td>credit_card</td>\n",
       "    </tr>\n",
       "    <tr>\n",
       "      <th>5</th>\n",
       "      <td>9</td>\n",
       "      <td>1</td>\n",
       "      <td>0.666667</td>\n",
       "      <td>0.713542</td>\n",
       "      <td>credit_card</td>\n",
       "    </tr>\n",
       "  </tbody>\n",
       "</table>\n",
       "</div>"
      ],
      "text/plain": [
       "   tenure category      test     train      feature\n",
       "4       9        0  0.333333  0.286458  credit_card\n",
       "5       9        1  0.666667  0.713542  credit_card"
      ]
     },
     "metadata": {},
     "output_type": "display_data"
    },
    {
     "name": "stdout",
     "output_type": "stream",
     "text": [
      "\n",
      "--------------------------------------------------\n",
      "\n"
     ]
    },
    {
     "data": {
      "text/markdown": [
       "proportions comparison for **10 years** tenure"
      ],
      "text/plain": [
       "<IPython.core.display.Markdown object>"
      ]
     },
     "metadata": {},
     "output_type": "display_data"
    },
    {
     "data": {
      "text/html": [
       "<div>\n",
       "<style scoped>\n",
       "    .dataframe tbody tr th:only-of-type {\n",
       "        vertical-align: middle;\n",
       "    }\n",
       "\n",
       "    .dataframe tbody tr th {\n",
       "        vertical-align: top;\n",
       "    }\n",
       "\n",
       "    .dataframe thead th {\n",
       "        text-align: right;\n",
       "    }\n",
       "</style>\n",
       "<table border=\"1\" class=\"dataframe\">\n",
       "  <thead>\n",
       "    <tr style=\"text-align: right;\">\n",
       "      <th></th>\n",
       "      <th>tenure</th>\n",
       "      <th>category</th>\n",
       "      <th>test</th>\n",
       "      <th>train</th>\n",
       "      <th>feature</th>\n",
       "    </tr>\n",
       "  </thead>\n",
       "  <tbody>\n",
       "    <tr>\n",
       "      <th>6</th>\n",
       "      <td>10</td>\n",
       "      <td>0</td>\n",
       "      <td>0.268041</td>\n",
       "      <td>0.277354</td>\n",
       "      <td>credit_card</td>\n",
       "    </tr>\n",
       "    <tr>\n",
       "      <th>7</th>\n",
       "      <td>10</td>\n",
       "      <td>1</td>\n",
       "      <td>0.731959</td>\n",
       "      <td>0.722646</td>\n",
       "      <td>credit_card</td>\n",
       "    </tr>\n",
       "  </tbody>\n",
       "</table>\n",
       "</div>"
      ],
      "text/plain": [
       "   tenure category      test     train      feature\n",
       "6      10        0  0.268041  0.277354  credit_card\n",
       "7      10        1  0.731959  0.722646  credit_card"
      ]
     },
     "metadata": {},
     "output_type": "display_data"
    },
    {
     "name": "stdout",
     "output_type": "stream",
     "text": [
      "\n",
      "--------------------------------------------------\n",
      "\n",
      "# ACTIVE_MEMBER\n"
     ]
    },
    {
     "data": {
      "text/markdown": [
       "proportions comparison for **4 years** tenure"
      ],
      "text/plain": [
       "<IPython.core.display.Markdown object>"
      ]
     },
     "metadata": {},
     "output_type": "display_data"
    },
    {
     "data": {
      "text/html": [
       "<div>\n",
       "<style scoped>\n",
       "    .dataframe tbody tr th:only-of-type {\n",
       "        vertical-align: middle;\n",
       "    }\n",
       "\n",
       "    .dataframe tbody tr th {\n",
       "        vertical-align: top;\n",
       "    }\n",
       "\n",
       "    .dataframe thead th {\n",
       "        text-align: right;\n",
       "    }\n",
       "</style>\n",
       "<table border=\"1\" class=\"dataframe\">\n",
       "  <thead>\n",
       "    <tr style=\"text-align: right;\">\n",
       "      <th></th>\n",
       "      <th>tenure</th>\n",
       "      <th>category</th>\n",
       "      <th>test</th>\n",
       "      <th>train</th>\n",
       "      <th>feature</th>\n",
       "    </tr>\n",
       "  </thead>\n",
       "  <tbody>\n",
       "    <tr>\n",
       "      <th>0</th>\n",
       "      <td>4</td>\n",
       "      <td>0</td>\n",
       "      <td>0.505376</td>\n",
       "      <td>0.491905</td>\n",
       "      <td>active_member</td>\n",
       "    </tr>\n",
       "    <tr>\n",
       "      <th>1</th>\n",
       "      <td>4</td>\n",
       "      <td>1</td>\n",
       "      <td>0.494624</td>\n",
       "      <td>0.508095</td>\n",
       "      <td>active_member</td>\n",
       "    </tr>\n",
       "  </tbody>\n",
       "</table>\n",
       "</div>"
      ],
      "text/plain": [
       "   tenure category      test     train        feature\n",
       "0       4        0  0.505376  0.491905  active_member\n",
       "1       4        1  0.494624  0.508095  active_member"
      ]
     },
     "metadata": {},
     "output_type": "display_data"
    },
    {
     "name": "stdout",
     "output_type": "stream",
     "text": [
      "\n",
      "--------------------------------------------------\n",
      "\n"
     ]
    },
    {
     "data": {
      "text/markdown": [
       "proportions comparison for **5 years** tenure"
      ],
      "text/plain": [
       "<IPython.core.display.Markdown object>"
      ]
     },
     "metadata": {},
     "output_type": "display_data"
    },
    {
     "data": {
      "text/html": [
       "<div>\n",
       "<style scoped>\n",
       "    .dataframe tbody tr th:only-of-type {\n",
       "        vertical-align: middle;\n",
       "    }\n",
       "\n",
       "    .dataframe tbody tr th {\n",
       "        vertical-align: top;\n",
       "    }\n",
       "\n",
       "    .dataframe thead th {\n",
       "        text-align: right;\n",
       "    }\n",
       "</style>\n",
       "<table border=\"1\" class=\"dataframe\">\n",
       "  <thead>\n",
       "    <tr style=\"text-align: right;\">\n",
       "      <th></th>\n",
       "      <th>tenure</th>\n",
       "      <th>category</th>\n",
       "      <th>test</th>\n",
       "      <th>train</th>\n",
       "      <th>feature</th>\n",
       "    </tr>\n",
       "  </thead>\n",
       "  <tbody>\n",
       "    <tr>\n",
       "      <th>2</th>\n",
       "      <td>5</td>\n",
       "      <td>0</td>\n",
       "      <td>0.546448</td>\n",
       "      <td>0.489747</td>\n",
       "      <td>active_member</td>\n",
       "    </tr>\n",
       "    <tr>\n",
       "      <th>3</th>\n",
       "      <td>5</td>\n",
       "      <td>1</td>\n",
       "      <td>0.453552</td>\n",
       "      <td>0.510253</td>\n",
       "      <td>active_member</td>\n",
       "    </tr>\n",
       "  </tbody>\n",
       "</table>\n",
       "</div>"
      ],
      "text/plain": [
       "   tenure category      test     train        feature\n",
       "2       5        0  0.546448  0.489747  active_member\n",
       "3       5        1  0.453552  0.510253  active_member"
      ]
     },
     "metadata": {},
     "output_type": "display_data"
    },
    {
     "name": "stdout",
     "output_type": "stream",
     "text": [
      "\n",
      "--------------------------------------------------\n",
      "\n"
     ]
    },
    {
     "data": {
      "text/markdown": [
       "proportions comparison for **9 years** tenure"
      ],
      "text/plain": [
       "<IPython.core.display.Markdown object>"
      ]
     },
     "metadata": {},
     "output_type": "display_data"
    },
    {
     "data": {
      "text/html": [
       "<div>\n",
       "<style scoped>\n",
       "    .dataframe tbody tr th:only-of-type {\n",
       "        vertical-align: middle;\n",
       "    }\n",
       "\n",
       "    .dataframe tbody tr th {\n",
       "        vertical-align: top;\n",
       "    }\n",
       "\n",
       "    .dataframe thead th {\n",
       "        text-align: right;\n",
       "    }\n",
       "</style>\n",
       "<table border=\"1\" class=\"dataframe\">\n",
       "  <thead>\n",
       "    <tr style=\"text-align: right;\">\n",
       "      <th></th>\n",
       "      <th>tenure</th>\n",
       "      <th>category</th>\n",
       "      <th>test</th>\n",
       "      <th>train</th>\n",
       "      <th>feature</th>\n",
       "    </tr>\n",
       "  </thead>\n",
       "  <tbody>\n",
       "    <tr>\n",
       "      <th>4</th>\n",
       "      <td>9</td>\n",
       "      <td>0</td>\n",
       "      <td>0.518519</td>\n",
       "      <td>0.522135</td>\n",
       "      <td>active_member</td>\n",
       "    </tr>\n",
       "    <tr>\n",
       "      <th>5</th>\n",
       "      <td>9</td>\n",
       "      <td>1</td>\n",
       "      <td>0.481481</td>\n",
       "      <td>0.477865</td>\n",
       "      <td>active_member</td>\n",
       "    </tr>\n",
       "  </tbody>\n",
       "</table>\n",
       "</div>"
      ],
      "text/plain": [
       "   tenure category      test     train        feature\n",
       "4       9        0  0.518519  0.522135  active_member\n",
       "5       9        1  0.481481  0.477865  active_member"
      ]
     },
     "metadata": {},
     "output_type": "display_data"
    },
    {
     "name": "stdout",
     "output_type": "stream",
     "text": [
      "\n",
      "--------------------------------------------------\n",
      "\n"
     ]
    },
    {
     "data": {
      "text/markdown": [
       "proportions comparison for **10 years** tenure"
      ],
      "text/plain": [
       "<IPython.core.display.Markdown object>"
      ]
     },
     "metadata": {},
     "output_type": "display_data"
    },
    {
     "data": {
      "text/html": [
       "<div>\n",
       "<style scoped>\n",
       "    .dataframe tbody tr th:only-of-type {\n",
       "        vertical-align: middle;\n",
       "    }\n",
       "\n",
       "    .dataframe tbody tr th {\n",
       "        vertical-align: top;\n",
       "    }\n",
       "\n",
       "    .dataframe thead th {\n",
       "        text-align: right;\n",
       "    }\n",
       "</style>\n",
       "<table border=\"1\" class=\"dataframe\">\n",
       "  <thead>\n",
       "    <tr style=\"text-align: right;\">\n",
       "      <th></th>\n",
       "      <th>tenure</th>\n",
       "      <th>category</th>\n",
       "      <th>test</th>\n",
       "      <th>train</th>\n",
       "      <th>feature</th>\n",
       "    </tr>\n",
       "  </thead>\n",
       "  <tbody>\n",
       "    <tr>\n",
       "      <th>6</th>\n",
       "      <td>10</td>\n",
       "      <td>0</td>\n",
       "      <td>0.43299</td>\n",
       "      <td>0.506361</td>\n",
       "      <td>active_member</td>\n",
       "    </tr>\n",
       "    <tr>\n",
       "      <th>7</th>\n",
       "      <td>10</td>\n",
       "      <td>1</td>\n",
       "      <td>0.56701</td>\n",
       "      <td>0.493639</td>\n",
       "      <td>active_member</td>\n",
       "    </tr>\n",
       "  </tbody>\n",
       "</table>\n",
       "</div>"
      ],
      "text/plain": [
       "   tenure category     test     train        feature\n",
       "6      10        0  0.43299  0.506361  active_member\n",
       "7      10        1  0.56701  0.493639  active_member"
      ]
     },
     "metadata": {},
     "output_type": "display_data"
    },
    {
     "name": "stdout",
     "output_type": "stream",
     "text": [
      "\n",
      "--------------------------------------------------\n",
      "\n",
      "# CREDIT_SCORE_BIN\n"
     ]
    },
    {
     "data": {
      "text/markdown": [
       "proportions comparison for **4 years** tenure"
      ],
      "text/plain": [
       "<IPython.core.display.Markdown object>"
      ]
     },
     "metadata": {},
     "output_type": "display_data"
    },
    {
     "data": {
      "text/html": [
       "<div>\n",
       "<style scoped>\n",
       "    .dataframe tbody tr th:only-of-type {\n",
       "        vertical-align: middle;\n",
       "    }\n",
       "\n",
       "    .dataframe tbody tr th {\n",
       "        vertical-align: top;\n",
       "    }\n",
       "\n",
       "    .dataframe thead th {\n",
       "        text-align: right;\n",
       "    }\n",
       "</style>\n",
       "<table border=\"1\" class=\"dataframe\">\n",
       "  <thead>\n",
       "    <tr style=\"text-align: right;\">\n",
       "      <th></th>\n",
       "      <th>tenure</th>\n",
       "      <th>category</th>\n",
       "      <th>test</th>\n",
       "      <th>train</th>\n",
       "      <th>feature</th>\n",
       "    </tr>\n",
       "  </thead>\n",
       "  <tbody>\n",
       "    <tr>\n",
       "      <th>0</th>\n",
       "      <td>4</td>\n",
       "      <td>&lt;=600</td>\n",
       "      <td>0.333333</td>\n",
       "      <td>0.310087</td>\n",
       "      <td>credit_score_bin</td>\n",
       "    </tr>\n",
       "    <tr>\n",
       "      <th>1</th>\n",
       "      <td>4</td>\n",
       "      <td>&lt;=700</td>\n",
       "      <td>0.360215</td>\n",
       "      <td>0.384807</td>\n",
       "      <td>credit_score_bin</td>\n",
       "    </tr>\n",
       "    <tr>\n",
       "      <th>2</th>\n",
       "      <td>4</td>\n",
       "      <td>&gt;700</td>\n",
       "      <td>0.306452</td>\n",
       "      <td>0.305106</td>\n",
       "      <td>credit_score_bin</td>\n",
       "    </tr>\n",
       "  </tbody>\n",
       "</table>\n",
       "</div>"
      ],
      "text/plain": [
       "   tenure category      test     train           feature\n",
       "0       4    <=600  0.333333  0.310087  credit_score_bin\n",
       "1       4    <=700  0.360215  0.384807  credit_score_bin\n",
       "2       4     >700  0.306452  0.305106  credit_score_bin"
      ]
     },
     "metadata": {},
     "output_type": "display_data"
    },
    {
     "name": "stdout",
     "output_type": "stream",
     "text": [
      "\n",
      "--------------------------------------------------\n",
      "\n"
     ]
    },
    {
     "data": {
      "text/markdown": [
       "proportions comparison for **5 years** tenure"
      ],
      "text/plain": [
       "<IPython.core.display.Markdown object>"
      ]
     },
     "metadata": {},
     "output_type": "display_data"
    },
    {
     "data": {
      "text/html": [
       "<div>\n",
       "<style scoped>\n",
       "    .dataframe tbody tr th:only-of-type {\n",
       "        vertical-align: middle;\n",
       "    }\n",
       "\n",
       "    .dataframe tbody tr th {\n",
       "        vertical-align: top;\n",
       "    }\n",
       "\n",
       "    .dataframe thead th {\n",
       "        text-align: right;\n",
       "    }\n",
       "</style>\n",
       "<table border=\"1\" class=\"dataframe\">\n",
       "  <thead>\n",
       "    <tr style=\"text-align: right;\">\n",
       "      <th></th>\n",
       "      <th>tenure</th>\n",
       "      <th>category</th>\n",
       "      <th>test</th>\n",
       "      <th>train</th>\n",
       "      <th>feature</th>\n",
       "    </tr>\n",
       "  </thead>\n",
       "  <tbody>\n",
       "    <tr>\n",
       "      <th>3</th>\n",
       "      <td>5</td>\n",
       "      <td>&lt;=600</td>\n",
       "      <td>0.316940</td>\n",
       "      <td>0.295537</td>\n",
       "      <td>credit_score_bin</td>\n",
       "    </tr>\n",
       "    <tr>\n",
       "      <th>4</th>\n",
       "      <td>5</td>\n",
       "      <td>&lt;=700</td>\n",
       "      <td>0.415301</td>\n",
       "      <td>0.378770</td>\n",
       "      <td>credit_score_bin</td>\n",
       "    </tr>\n",
       "    <tr>\n",
       "      <th>5</th>\n",
       "      <td>5</td>\n",
       "      <td>&gt;700</td>\n",
       "      <td>0.267760</td>\n",
       "      <td>0.325694</td>\n",
       "      <td>credit_score_bin</td>\n",
       "    </tr>\n",
       "  </tbody>\n",
       "</table>\n",
       "</div>"
      ],
      "text/plain": [
       "   tenure category      test     train           feature\n",
       "3       5    <=600  0.316940  0.295537  credit_score_bin\n",
       "4       5    <=700  0.415301  0.378770  credit_score_bin\n",
       "5       5     >700  0.267760  0.325694  credit_score_bin"
      ]
     },
     "metadata": {},
     "output_type": "display_data"
    },
    {
     "name": "stdout",
     "output_type": "stream",
     "text": [
      "\n",
      "--------------------------------------------------\n",
      "\n"
     ]
    },
    {
     "data": {
      "text/markdown": [
       "proportions comparison for **9 years** tenure"
      ],
      "text/plain": [
       "<IPython.core.display.Markdown object>"
      ]
     },
     "metadata": {},
     "output_type": "display_data"
    },
    {
     "data": {
      "text/html": [
       "<div>\n",
       "<style scoped>\n",
       "    .dataframe tbody tr th:only-of-type {\n",
       "        vertical-align: middle;\n",
       "    }\n",
       "\n",
       "    .dataframe tbody tr th {\n",
       "        vertical-align: top;\n",
       "    }\n",
       "\n",
       "    .dataframe thead th {\n",
       "        text-align: right;\n",
       "    }\n",
       "</style>\n",
       "<table border=\"1\" class=\"dataframe\">\n",
       "  <thead>\n",
       "    <tr style=\"text-align: right;\">\n",
       "      <th></th>\n",
       "      <th>tenure</th>\n",
       "      <th>category</th>\n",
       "      <th>test</th>\n",
       "      <th>train</th>\n",
       "      <th>feature</th>\n",
       "    </tr>\n",
       "  </thead>\n",
       "  <tbody>\n",
       "    <tr>\n",
       "      <th>6</th>\n",
       "      <td>9</td>\n",
       "      <td>&lt;=600</td>\n",
       "      <td>0.310185</td>\n",
       "      <td>0.292969</td>\n",
       "      <td>credit_score_bin</td>\n",
       "    </tr>\n",
       "    <tr>\n",
       "      <th>7</th>\n",
       "      <td>9</td>\n",
       "      <td>&lt;=700</td>\n",
       "      <td>0.356481</td>\n",
       "      <td>0.372396</td>\n",
       "      <td>credit_score_bin</td>\n",
       "    </tr>\n",
       "    <tr>\n",
       "      <th>8</th>\n",
       "      <td>9</td>\n",
       "      <td>&gt;700</td>\n",
       "      <td>0.333333</td>\n",
       "      <td>0.334635</td>\n",
       "      <td>credit_score_bin</td>\n",
       "    </tr>\n",
       "  </tbody>\n",
       "</table>\n",
       "</div>"
      ],
      "text/plain": [
       "   tenure category      test     train           feature\n",
       "6       9    <=600  0.310185  0.292969  credit_score_bin\n",
       "7       9    <=700  0.356481  0.372396  credit_score_bin\n",
       "8       9     >700  0.333333  0.334635  credit_score_bin"
      ]
     },
     "metadata": {},
     "output_type": "display_data"
    },
    {
     "name": "stdout",
     "output_type": "stream",
     "text": [
      "\n",
      "--------------------------------------------------\n",
      "\n"
     ]
    },
    {
     "data": {
      "text/markdown": [
       "proportions comparison for **10 years** tenure"
      ],
      "text/plain": [
       "<IPython.core.display.Markdown object>"
      ]
     },
     "metadata": {},
     "output_type": "display_data"
    },
    {
     "data": {
      "text/html": [
       "<div>\n",
       "<style scoped>\n",
       "    .dataframe tbody tr th:only-of-type {\n",
       "        vertical-align: middle;\n",
       "    }\n",
       "\n",
       "    .dataframe tbody tr th {\n",
       "        vertical-align: top;\n",
       "    }\n",
       "\n",
       "    .dataframe thead th {\n",
       "        text-align: right;\n",
       "    }\n",
       "</style>\n",
       "<table border=\"1\" class=\"dataframe\">\n",
       "  <thead>\n",
       "    <tr style=\"text-align: right;\">\n",
       "      <th></th>\n",
       "      <th>tenure</th>\n",
       "      <th>category</th>\n",
       "      <th>test</th>\n",
       "      <th>train</th>\n",
       "      <th>feature</th>\n",
       "    </tr>\n",
       "  </thead>\n",
       "  <tbody>\n",
       "    <tr>\n",
       "      <th>9</th>\n",
       "      <td>10</td>\n",
       "      <td>&lt;=600</td>\n",
       "      <td>0.278351</td>\n",
       "      <td>0.300254</td>\n",
       "      <td>credit_score_bin</td>\n",
       "    </tr>\n",
       "    <tr>\n",
       "      <th>10</th>\n",
       "      <td>10</td>\n",
       "      <td>&lt;=700</td>\n",
       "      <td>0.391753</td>\n",
       "      <td>0.368957</td>\n",
       "      <td>credit_score_bin</td>\n",
       "    </tr>\n",
       "    <tr>\n",
       "      <th>11</th>\n",
       "      <td>10</td>\n",
       "      <td>&gt;700</td>\n",
       "      <td>0.329897</td>\n",
       "      <td>0.330789</td>\n",
       "      <td>credit_score_bin</td>\n",
       "    </tr>\n",
       "  </tbody>\n",
       "</table>\n",
       "</div>"
      ],
      "text/plain": [
       "    tenure category      test     train           feature\n",
       "9       10    <=600  0.278351  0.300254  credit_score_bin\n",
       "10      10    <=700  0.391753  0.368957  credit_score_bin\n",
       "11      10     >700  0.329897  0.330789  credit_score_bin"
      ]
     },
     "metadata": {},
     "output_type": "display_data"
    },
    {
     "name": "stdout",
     "output_type": "stream",
     "text": [
      "\n",
      "--------------------------------------------------\n",
      "\n",
      "# SALARY_BIN\n"
     ]
    },
    {
     "data": {
      "text/markdown": [
       "proportions comparison for **4 years** tenure"
      ],
      "text/plain": [
       "<IPython.core.display.Markdown object>"
      ]
     },
     "metadata": {},
     "output_type": "display_data"
    },
    {
     "data": {
      "text/html": [
       "<div>\n",
       "<style scoped>\n",
       "    .dataframe tbody tr th:only-of-type {\n",
       "        vertical-align: middle;\n",
       "    }\n",
       "\n",
       "    .dataframe tbody tr th {\n",
       "        vertical-align: top;\n",
       "    }\n",
       "\n",
       "    .dataframe thead th {\n",
       "        text-align: right;\n",
       "    }\n",
       "</style>\n",
       "<table border=\"1\" class=\"dataframe\">\n",
       "  <thead>\n",
       "    <tr style=\"text-align: right;\">\n",
       "      <th></th>\n",
       "      <th>tenure</th>\n",
       "      <th>category</th>\n",
       "      <th>test</th>\n",
       "      <th>train</th>\n",
       "      <th>feature</th>\n",
       "    </tr>\n",
       "  </thead>\n",
       "  <tbody>\n",
       "    <tr>\n",
       "      <th>0</th>\n",
       "      <td>4</td>\n",
       "      <td>&lt;=100000</td>\n",
       "      <td>0.247312</td>\n",
       "      <td>0.235367</td>\n",
       "      <td>salary_bin</td>\n",
       "    </tr>\n",
       "    <tr>\n",
       "      <th>1</th>\n",
       "      <td>4</td>\n",
       "      <td>&lt;=150000</td>\n",
       "      <td>0.317204</td>\n",
       "      <td>0.264010</td>\n",
       "      <td>salary_bin</td>\n",
       "    </tr>\n",
       "    <tr>\n",
       "      <th>2</th>\n",
       "      <td>4</td>\n",
       "      <td>&lt;=50000</td>\n",
       "      <td>0.231183</td>\n",
       "      <td>0.257783</td>\n",
       "      <td>salary_bin</td>\n",
       "    </tr>\n",
       "    <tr>\n",
       "      <th>3</th>\n",
       "      <td>4</td>\n",
       "      <td>&gt;150000</td>\n",
       "      <td>0.204301</td>\n",
       "      <td>0.242839</td>\n",
       "      <td>salary_bin</td>\n",
       "    </tr>\n",
       "  </tbody>\n",
       "</table>\n",
       "</div>"
      ],
      "text/plain": [
       "   tenure  category      test     train     feature\n",
       "0       4  <=100000  0.247312  0.235367  salary_bin\n",
       "1       4  <=150000  0.317204  0.264010  salary_bin\n",
       "2       4   <=50000  0.231183  0.257783  salary_bin\n",
       "3       4   >150000  0.204301  0.242839  salary_bin"
      ]
     },
     "metadata": {},
     "output_type": "display_data"
    },
    {
     "name": "stdout",
     "output_type": "stream",
     "text": [
      "\n",
      "--------------------------------------------------\n",
      "\n"
     ]
    },
    {
     "data": {
      "text/markdown": [
       "proportions comparison for **5 years** tenure"
      ],
      "text/plain": [
       "<IPython.core.display.Markdown object>"
      ]
     },
     "metadata": {},
     "output_type": "display_data"
    },
    {
     "data": {
      "text/html": [
       "<div>\n",
       "<style scoped>\n",
       "    .dataframe tbody tr th:only-of-type {\n",
       "        vertical-align: middle;\n",
       "    }\n",
       "\n",
       "    .dataframe tbody tr th {\n",
       "        vertical-align: top;\n",
       "    }\n",
       "\n",
       "    .dataframe thead th {\n",
       "        text-align: right;\n",
       "    }\n",
       "</style>\n",
       "<table border=\"1\" class=\"dataframe\">\n",
       "  <thead>\n",
       "    <tr style=\"text-align: right;\">\n",
       "      <th></th>\n",
       "      <th>tenure</th>\n",
       "      <th>category</th>\n",
       "      <th>test</th>\n",
       "      <th>train</th>\n",
       "      <th>feature</th>\n",
       "    </tr>\n",
       "  </thead>\n",
       "  <tbody>\n",
       "    <tr>\n",
       "      <th>4</th>\n",
       "      <td>5</td>\n",
       "      <td>&lt;=100000</td>\n",
       "      <td>0.273224</td>\n",
       "      <td>0.258142</td>\n",
       "      <td>salary_bin</td>\n",
       "    </tr>\n",
       "    <tr>\n",
       "      <th>5</th>\n",
       "      <td>5</td>\n",
       "      <td>&lt;=150000</td>\n",
       "      <td>0.300546</td>\n",
       "      <td>0.258142</td>\n",
       "      <td>salary_bin</td>\n",
       "    </tr>\n",
       "    <tr>\n",
       "      <th>6</th>\n",
       "      <td>5</td>\n",
       "      <td>&lt;=50000</td>\n",
       "      <td>0.196721</td>\n",
       "      <td>0.232811</td>\n",
       "      <td>salary_bin</td>\n",
       "    </tr>\n",
       "    <tr>\n",
       "      <th>7</th>\n",
       "      <td>5</td>\n",
       "      <td>&gt;150000</td>\n",
       "      <td>0.229508</td>\n",
       "      <td>0.250905</td>\n",
       "      <td>salary_bin</td>\n",
       "    </tr>\n",
       "  </tbody>\n",
       "</table>\n",
       "</div>"
      ],
      "text/plain": [
       "   tenure  category      test     train     feature\n",
       "4       5  <=100000  0.273224  0.258142  salary_bin\n",
       "5       5  <=150000  0.300546  0.258142  salary_bin\n",
       "6       5   <=50000  0.196721  0.232811  salary_bin\n",
       "7       5   >150000  0.229508  0.250905  salary_bin"
      ]
     },
     "metadata": {},
     "output_type": "display_data"
    },
    {
     "name": "stdout",
     "output_type": "stream",
     "text": [
      "\n",
      "--------------------------------------------------\n",
      "\n"
     ]
    },
    {
     "data": {
      "text/markdown": [
       "proportions comparison for **9 years** tenure"
      ],
      "text/plain": [
       "<IPython.core.display.Markdown object>"
      ]
     },
     "metadata": {},
     "output_type": "display_data"
    },
    {
     "data": {
      "text/html": [
       "<div>\n",
       "<style scoped>\n",
       "    .dataframe tbody tr th:only-of-type {\n",
       "        vertical-align: middle;\n",
       "    }\n",
       "\n",
       "    .dataframe tbody tr th {\n",
       "        vertical-align: top;\n",
       "    }\n",
       "\n",
       "    .dataframe thead th {\n",
       "        text-align: right;\n",
       "    }\n",
       "</style>\n",
       "<table border=\"1\" class=\"dataframe\">\n",
       "  <thead>\n",
       "    <tr style=\"text-align: right;\">\n",
       "      <th></th>\n",
       "      <th>tenure</th>\n",
       "      <th>category</th>\n",
       "      <th>test</th>\n",
       "      <th>train</th>\n",
       "      <th>feature</th>\n",
       "    </tr>\n",
       "  </thead>\n",
       "  <tbody>\n",
       "    <tr>\n",
       "      <th>8</th>\n",
       "      <td>9</td>\n",
       "      <td>&lt;=100000</td>\n",
       "      <td>0.231481</td>\n",
       "      <td>0.253906</td>\n",
       "      <td>salary_bin</td>\n",
       "    </tr>\n",
       "    <tr>\n",
       "      <th>9</th>\n",
       "      <td>9</td>\n",
       "      <td>&lt;=150000</td>\n",
       "      <td>0.250000</td>\n",
       "      <td>0.247396</td>\n",
       "      <td>salary_bin</td>\n",
       "    </tr>\n",
       "    <tr>\n",
       "      <th>10</th>\n",
       "      <td>9</td>\n",
       "      <td>&lt;=50000</td>\n",
       "      <td>0.314815</td>\n",
       "      <td>0.238281</td>\n",
       "      <td>salary_bin</td>\n",
       "    </tr>\n",
       "    <tr>\n",
       "      <th>11</th>\n",
       "      <td>9</td>\n",
       "      <td>&gt;150000</td>\n",
       "      <td>0.203704</td>\n",
       "      <td>0.260417</td>\n",
       "      <td>salary_bin</td>\n",
       "    </tr>\n",
       "  </tbody>\n",
       "</table>\n",
       "</div>"
      ],
      "text/plain": [
       "    tenure  category      test     train     feature\n",
       "8        9  <=100000  0.231481  0.253906  salary_bin\n",
       "9        9  <=150000  0.250000  0.247396  salary_bin\n",
       "10       9   <=50000  0.314815  0.238281  salary_bin\n",
       "11       9   >150000  0.203704  0.260417  salary_bin"
      ]
     },
     "metadata": {},
     "output_type": "display_data"
    },
    {
     "name": "stdout",
     "output_type": "stream",
     "text": [
      "\n",
      "--------------------------------------------------\n",
      "\n"
     ]
    },
    {
     "data": {
      "text/markdown": [
       "proportions comparison for **10 years** tenure"
      ],
      "text/plain": [
       "<IPython.core.display.Markdown object>"
      ]
     },
     "metadata": {},
     "output_type": "display_data"
    },
    {
     "data": {
      "text/html": [
       "<div>\n",
       "<style scoped>\n",
       "    .dataframe tbody tr th:only-of-type {\n",
       "        vertical-align: middle;\n",
       "    }\n",
       "\n",
       "    .dataframe tbody tr th {\n",
       "        vertical-align: top;\n",
       "    }\n",
       "\n",
       "    .dataframe thead th {\n",
       "        text-align: right;\n",
       "    }\n",
       "</style>\n",
       "<table border=\"1\" class=\"dataframe\">\n",
       "  <thead>\n",
       "    <tr style=\"text-align: right;\">\n",
       "      <th></th>\n",
       "      <th>tenure</th>\n",
       "      <th>category</th>\n",
       "      <th>test</th>\n",
       "      <th>train</th>\n",
       "      <th>feature</th>\n",
       "    </tr>\n",
       "  </thead>\n",
       "  <tbody>\n",
       "    <tr>\n",
       "      <th>12</th>\n",
       "      <td>10</td>\n",
       "      <td>&lt;=100000</td>\n",
       "      <td>0.226804</td>\n",
       "      <td>0.264631</td>\n",
       "      <td>salary_bin</td>\n",
       "    </tr>\n",
       "    <tr>\n",
       "      <th>13</th>\n",
       "      <td>10</td>\n",
       "      <td>&lt;=150000</td>\n",
       "      <td>0.257732</td>\n",
       "      <td>0.254453</td>\n",
       "      <td>salary_bin</td>\n",
       "    </tr>\n",
       "    <tr>\n",
       "      <th>14</th>\n",
       "      <td>10</td>\n",
       "      <td>&lt;=50000</td>\n",
       "      <td>0.288660</td>\n",
       "      <td>0.213740</td>\n",
       "      <td>salary_bin</td>\n",
       "    </tr>\n",
       "    <tr>\n",
       "      <th>15</th>\n",
       "      <td>10</td>\n",
       "      <td>&gt;150000</td>\n",
       "      <td>0.226804</td>\n",
       "      <td>0.267176</td>\n",
       "      <td>salary_bin</td>\n",
       "    </tr>\n",
       "  </tbody>\n",
       "</table>\n",
       "</div>"
      ],
      "text/plain": [
       "    tenure  category      test     train     feature\n",
       "12      10  <=100000  0.226804  0.264631  salary_bin\n",
       "13      10  <=150000  0.257732  0.254453  salary_bin\n",
       "14      10   <=50000  0.288660  0.213740  salary_bin\n",
       "15      10   >150000  0.226804  0.267176  salary_bin"
      ]
     },
     "metadata": {},
     "output_type": "display_data"
    },
    {
     "name": "stdout",
     "output_type": "stream",
     "text": [
      "\n",
      "--------------------------------------------------\n",
      "\n",
      "# BALANCE_BIN\n"
     ]
    },
    {
     "data": {
      "text/markdown": [
       "proportions comparison for **4 years** tenure"
      ],
      "text/plain": [
       "<IPython.core.display.Markdown object>"
      ]
     },
     "metadata": {},
     "output_type": "display_data"
    },
    {
     "data": {
      "text/html": [
       "<div>\n",
       "<style scoped>\n",
       "    .dataframe tbody tr th:only-of-type {\n",
       "        vertical-align: middle;\n",
       "    }\n",
       "\n",
       "    .dataframe tbody tr th {\n",
       "        vertical-align: top;\n",
       "    }\n",
       "\n",
       "    .dataframe thead th {\n",
       "        text-align: right;\n",
       "    }\n",
       "</style>\n",
       "<table border=\"1\" class=\"dataframe\">\n",
       "  <thead>\n",
       "    <tr style=\"text-align: right;\">\n",
       "      <th></th>\n",
       "      <th>tenure</th>\n",
       "      <th>category</th>\n",
       "      <th>test</th>\n",
       "      <th>train</th>\n",
       "      <th>feature</th>\n",
       "    </tr>\n",
       "  </thead>\n",
       "  <tbody>\n",
       "    <tr>\n",
       "      <th>0</th>\n",
       "      <td>4</td>\n",
       "      <td>&lt;=90000</td>\n",
       "      <td>0.456989</td>\n",
       "      <td>0.484433</td>\n",
       "      <td>balance_bin</td>\n",
       "    </tr>\n",
       "    <tr>\n",
       "      <th>1</th>\n",
       "      <td>4</td>\n",
       "      <td>&lt;=150000</td>\n",
       "      <td>0.456989</td>\n",
       "      <td>0.437111</td>\n",
       "      <td>balance_bin</td>\n",
       "    </tr>\n",
       "    <tr>\n",
       "      <th>2</th>\n",
       "      <td>4</td>\n",
       "      <td>&gt;150000</td>\n",
       "      <td>0.086022</td>\n",
       "      <td>0.078456</td>\n",
       "      <td>balance_bin</td>\n",
       "    </tr>\n",
       "  </tbody>\n",
       "</table>\n",
       "</div>"
      ],
      "text/plain": [
       "   tenure  category      test     train      feature\n",
       "0       4   <=90000  0.456989  0.484433  balance_bin\n",
       "1       4  <=150000  0.456989  0.437111  balance_bin\n",
       "2       4   >150000  0.086022  0.078456  balance_bin"
      ]
     },
     "metadata": {},
     "output_type": "display_data"
    },
    {
     "name": "stdout",
     "output_type": "stream",
     "text": [
      "\n",
      "--------------------------------------------------\n",
      "\n"
     ]
    },
    {
     "data": {
      "text/markdown": [
       "proportions comparison for **5 years** tenure"
      ],
      "text/plain": [
       "<IPython.core.display.Markdown object>"
      ]
     },
     "metadata": {},
     "output_type": "display_data"
    },
    {
     "data": {
      "text/html": [
       "<div>\n",
       "<style scoped>\n",
       "    .dataframe tbody tr th:only-of-type {\n",
       "        vertical-align: middle;\n",
       "    }\n",
       "\n",
       "    .dataframe tbody tr th {\n",
       "        vertical-align: top;\n",
       "    }\n",
       "\n",
       "    .dataframe thead th {\n",
       "        text-align: right;\n",
       "    }\n",
       "</style>\n",
       "<table border=\"1\" class=\"dataframe\">\n",
       "  <thead>\n",
       "    <tr style=\"text-align: right;\">\n",
       "      <th></th>\n",
       "      <th>tenure</th>\n",
       "      <th>category</th>\n",
       "      <th>test</th>\n",
       "      <th>train</th>\n",
       "      <th>feature</th>\n",
       "    </tr>\n",
       "  </thead>\n",
       "  <tbody>\n",
       "    <tr>\n",
       "      <th>3</th>\n",
       "      <td>5</td>\n",
       "      <td>&lt;=90000</td>\n",
       "      <td>0.426230</td>\n",
       "      <td>0.474065</td>\n",
       "      <td>balance_bin</td>\n",
       "    </tr>\n",
       "    <tr>\n",
       "      <th>4</th>\n",
       "      <td>5</td>\n",
       "      <td>&lt;=150000</td>\n",
       "      <td>0.448087</td>\n",
       "      <td>0.417370</td>\n",
       "      <td>balance_bin</td>\n",
       "    </tr>\n",
       "    <tr>\n",
       "      <th>5</th>\n",
       "      <td>5</td>\n",
       "      <td>&gt;150000</td>\n",
       "      <td>0.125683</td>\n",
       "      <td>0.108565</td>\n",
       "      <td>balance_bin</td>\n",
       "    </tr>\n",
       "  </tbody>\n",
       "</table>\n",
       "</div>"
      ],
      "text/plain": [
       "   tenure  category      test     train      feature\n",
       "3       5   <=90000  0.426230  0.474065  balance_bin\n",
       "4       5  <=150000  0.448087  0.417370  balance_bin\n",
       "5       5   >150000  0.125683  0.108565  balance_bin"
      ]
     },
     "metadata": {},
     "output_type": "display_data"
    },
    {
     "name": "stdout",
     "output_type": "stream",
     "text": [
      "\n",
      "--------------------------------------------------\n",
      "\n"
     ]
    },
    {
     "data": {
      "text/markdown": [
       "proportions comparison for **9 years** tenure"
      ],
      "text/plain": [
       "<IPython.core.display.Markdown object>"
      ]
     },
     "metadata": {},
     "output_type": "display_data"
    },
    {
     "data": {
      "text/html": [
       "<div>\n",
       "<style scoped>\n",
       "    .dataframe tbody tr th:only-of-type {\n",
       "        vertical-align: middle;\n",
       "    }\n",
       "\n",
       "    .dataframe tbody tr th {\n",
       "        vertical-align: top;\n",
       "    }\n",
       "\n",
       "    .dataframe thead th {\n",
       "        text-align: right;\n",
       "    }\n",
       "</style>\n",
       "<table border=\"1\" class=\"dataframe\">\n",
       "  <thead>\n",
       "    <tr style=\"text-align: right;\">\n",
       "      <th></th>\n",
       "      <th>tenure</th>\n",
       "      <th>category</th>\n",
       "      <th>test</th>\n",
       "      <th>train</th>\n",
       "      <th>feature</th>\n",
       "    </tr>\n",
       "  </thead>\n",
       "  <tbody>\n",
       "    <tr>\n",
       "      <th>6</th>\n",
       "      <td>9</td>\n",
       "      <td>&lt;=90000</td>\n",
       "      <td>0.444444</td>\n",
       "      <td>0.451823</td>\n",
       "      <td>balance_bin</td>\n",
       "    </tr>\n",
       "    <tr>\n",
       "      <th>7</th>\n",
       "      <td>9</td>\n",
       "      <td>&lt;=150000</td>\n",
       "      <td>0.462963</td>\n",
       "      <td>0.454427</td>\n",
       "      <td>balance_bin</td>\n",
       "    </tr>\n",
       "    <tr>\n",
       "      <th>8</th>\n",
       "      <td>9</td>\n",
       "      <td>&gt;150000</td>\n",
       "      <td>0.092593</td>\n",
       "      <td>0.093750</td>\n",
       "      <td>balance_bin</td>\n",
       "    </tr>\n",
       "  </tbody>\n",
       "</table>\n",
       "</div>"
      ],
      "text/plain": [
       "   tenure  category      test     train      feature\n",
       "6       9   <=90000  0.444444  0.451823  balance_bin\n",
       "7       9  <=150000  0.462963  0.454427  balance_bin\n",
       "8       9   >150000  0.092593  0.093750  balance_bin"
      ]
     },
     "metadata": {},
     "output_type": "display_data"
    },
    {
     "name": "stdout",
     "output_type": "stream",
     "text": [
      "\n",
      "--------------------------------------------------\n",
      "\n"
     ]
    },
    {
     "data": {
      "text/markdown": [
       "proportions comparison for **10 years** tenure"
      ],
      "text/plain": [
       "<IPython.core.display.Markdown object>"
      ]
     },
     "metadata": {},
     "output_type": "display_data"
    },
    {
     "data": {
      "text/html": [
       "<div>\n",
       "<style scoped>\n",
       "    .dataframe tbody tr th:only-of-type {\n",
       "        vertical-align: middle;\n",
       "    }\n",
       "\n",
       "    .dataframe tbody tr th {\n",
       "        vertical-align: top;\n",
       "    }\n",
       "\n",
       "    .dataframe thead th {\n",
       "        text-align: right;\n",
       "    }\n",
       "</style>\n",
       "<table border=\"1\" class=\"dataframe\">\n",
       "  <thead>\n",
       "    <tr style=\"text-align: right;\">\n",
       "      <th></th>\n",
       "      <th>tenure</th>\n",
       "      <th>category</th>\n",
       "      <th>test</th>\n",
       "      <th>train</th>\n",
       "      <th>feature</th>\n",
       "    </tr>\n",
       "  </thead>\n",
       "  <tbody>\n",
       "    <tr>\n",
       "      <th>9</th>\n",
       "      <td>10</td>\n",
       "      <td>&lt;=90000</td>\n",
       "      <td>0.453608</td>\n",
       "      <td>0.498728</td>\n",
       "      <td>balance_bin</td>\n",
       "    </tr>\n",
       "    <tr>\n",
       "      <th>10</th>\n",
       "      <td>10</td>\n",
       "      <td>&lt;=150000</td>\n",
       "      <td>0.443299</td>\n",
       "      <td>0.437659</td>\n",
       "      <td>balance_bin</td>\n",
       "    </tr>\n",
       "    <tr>\n",
       "      <th>11</th>\n",
       "      <td>10</td>\n",
       "      <td>&gt;150000</td>\n",
       "      <td>0.103093</td>\n",
       "      <td>0.063613</td>\n",
       "      <td>balance_bin</td>\n",
       "    </tr>\n",
       "  </tbody>\n",
       "</table>\n",
       "</div>"
      ],
      "text/plain": [
       "    tenure  category      test     train      feature\n",
       "9       10   <=90000  0.453608  0.498728  balance_bin\n",
       "10      10  <=150000  0.443299  0.437659  balance_bin\n",
       "11      10   >150000  0.103093  0.063613  balance_bin"
      ]
     },
     "metadata": {},
     "output_type": "display_data"
    },
    {
     "name": "stdout",
     "output_type": "stream",
     "text": [
      "\n",
      "--------------------------------------------------\n",
      "\n"
     ]
    }
   ],
   "source": [
    "for feature in cat_proportions['feature'].unique():\n",
    "    print(f'# {feature.upper()}')\n",
    "    fn.print_in_sequence(cat_proportions.query(\"feature==@feature\"), 'tenure', 'proportions comparison for **{} years** tenure')"
   ]
  },
  {
   "cell_type": "markdown",
   "metadata": {},
   "source": [
    "> По категории 5 наблюадется значительное различие в пропорциях категорий по полю `products_number` между тренировочным и тестовым сетом.  \n",
    "> Но как решить эти проблему я не знаю."
   ]
  },
  {
   "cell_type": "markdown",
   "metadata": {},
   "source": [
    "## Инженерия признаков"
   ]
  },
  {
   "cell_type": "markdown",
   "metadata": {},
   "source": [
    "**Создание новых признаков:**\n",
    "   - Сгенерируйте **новые** признаки на основе существующих. Затем обучите модель с учетом новых признаков и оцените её производительность."
   ]
  },
  {
   "cell_type": "markdown",
   "metadata": {},
   "source": [
    "### Добавляем полиномы"
   ]
  },
  {
   "cell_type": "code",
   "execution_count": 30,
   "metadata": {},
   "outputs": [],
   "source": [
    "num_features=['credit_score', 'age', 'tenure', 'balance', 'credit_card', 'active_member', 'estimated_salary']"
   ]
  },
  {
   "cell_type": "code",
   "execution_count": 31,
   "metadata": {},
   "outputs": [],
   "source": [
    "poly_df=fn.add_polynomes(df, num_features)"
   ]
  },
  {
   "cell_type": "code",
   "execution_count": 32,
   "metadata": {},
   "outputs": [
    {
     "data": {
      "text/html": [
       "<div>\n",
       "<style scoped>\n",
       "    .dataframe tbody tr th:only-of-type {\n",
       "        vertical-align: middle;\n",
       "    }\n",
       "\n",
       "    .dataframe tbody tr th {\n",
       "        vertical-align: top;\n",
       "    }\n",
       "\n",
       "    .dataframe thead th {\n",
       "        text-align: right;\n",
       "    }\n",
       "</style>\n",
       "<table border=\"1\" class=\"dataframe\">\n",
       "  <thead>\n",
       "    <tr style=\"text-align: right;\">\n",
       "      <th></th>\n",
       "      <th>country</th>\n",
       "      <th>gender</th>\n",
       "      <th>products_number</th>\n",
       "      <th>churn</th>\n",
       "      <th>credit_score_bin</th>\n",
       "      <th>salary_bin</th>\n",
       "      <th>balance_bin</th>\n",
       "      <th>credit_score</th>\n",
       "      <th>age</th>\n",
       "      <th>tenure</th>\n",
       "      <th>...</th>\n",
       "      <th>credit_card^2 estimated_salary^2</th>\n",
       "      <th>credit_card active_member^3</th>\n",
       "      <th>credit_card active_member^2 estimated_salary</th>\n",
       "      <th>credit_card active_member estimated_salary^2</th>\n",
       "      <th>credit_card estimated_salary^3</th>\n",
       "      <th>active_member^4</th>\n",
       "      <th>active_member^3 estimated_salary</th>\n",
       "      <th>active_member^2 estimated_salary^2</th>\n",
       "      <th>active_member estimated_salary^3</th>\n",
       "      <th>estimated_salary^4</th>\n",
       "    </tr>\n",
       "  </thead>\n",
       "  <tbody>\n",
       "    <tr>\n",
       "      <th>0</th>\n",
       "      <td>France</td>\n",
       "      <td>Female</td>\n",
       "      <td>1</td>\n",
       "      <td>1</td>\n",
       "      <td>&lt;=700</td>\n",
       "      <td>&lt;=150000</td>\n",
       "      <td>&lt;=90000</td>\n",
       "      <td>619.0</td>\n",
       "      <td>42.0</td>\n",
       "      <td>2.0</td>\n",
       "      <td>...</td>\n",
       "      <td>1.027160e+10</td>\n",
       "      <td>1.0</td>\n",
       "      <td>101348.88</td>\n",
       "      <td>1.027160e+10</td>\n",
       "      <td>1.041015e+15</td>\n",
       "      <td>1.0</td>\n",
       "      <td>101348.88</td>\n",
       "      <td>1.027160e+10</td>\n",
       "      <td>1.041015e+15</td>\n",
       "      <td>1.055057e+20</td>\n",
       "    </tr>\n",
       "    <tr>\n",
       "      <th>1</th>\n",
       "      <td>Spain</td>\n",
       "      <td>Female</td>\n",
       "      <td>1</td>\n",
       "      <td>0</td>\n",
       "      <td>&lt;=700</td>\n",
       "      <td>&lt;=150000</td>\n",
       "      <td>&lt;=90000</td>\n",
       "      <td>608.0</td>\n",
       "      <td>41.0</td>\n",
       "      <td>1.0</td>\n",
       "      <td>...</td>\n",
       "      <td>0.000000e+00</td>\n",
       "      <td>0.0</td>\n",
       "      <td>0.00</td>\n",
       "      <td>0.000000e+00</td>\n",
       "      <td>0.000000e+00</td>\n",
       "      <td>1.0</td>\n",
       "      <td>112542.58</td>\n",
       "      <td>1.266583e+10</td>\n",
       "      <td>1.425445e+15</td>\n",
       "      <td>1.604233e+20</td>\n",
       "    </tr>\n",
       "    <tr>\n",
       "      <th>2</th>\n",
       "      <td>France</td>\n",
       "      <td>Female</td>\n",
       "      <td>&gt;2</td>\n",
       "      <td>1</td>\n",
       "      <td>&lt;=600</td>\n",
       "      <td>&lt;=150000</td>\n",
       "      <td>&gt;150000</td>\n",
       "      <td>502.0</td>\n",
       "      <td>42.0</td>\n",
       "      <td>8.0</td>\n",
       "      <td>...</td>\n",
       "      <td>1.298040e+10</td>\n",
       "      <td>0.0</td>\n",
       "      <td>0.00</td>\n",
       "      <td>0.000000e+00</td>\n",
       "      <td>1.478878e+15</td>\n",
       "      <td>0.0</td>\n",
       "      <td>0.00</td>\n",
       "      <td>0.000000e+00</td>\n",
       "      <td>0.000000e+00</td>\n",
       "      <td>1.684909e+20</td>\n",
       "    </tr>\n",
       "    <tr>\n",
       "      <th>3</th>\n",
       "      <td>France</td>\n",
       "      <td>Female</td>\n",
       "      <td>2</td>\n",
       "      <td>0</td>\n",
       "      <td>&lt;=700</td>\n",
       "      <td>&lt;=100000</td>\n",
       "      <td>&lt;=90000</td>\n",
       "      <td>699.0</td>\n",
       "      <td>39.0</td>\n",
       "      <td>1.0</td>\n",
       "      <td>...</td>\n",
       "      <td>0.000000e+00</td>\n",
       "      <td>0.0</td>\n",
       "      <td>0.00</td>\n",
       "      <td>0.000000e+00</td>\n",
       "      <td>0.000000e+00</td>\n",
       "      <td>0.0</td>\n",
       "      <td>0.00</td>\n",
       "      <td>0.000000e+00</td>\n",
       "      <td>0.000000e+00</td>\n",
       "      <td>7.750049e+19</td>\n",
       "    </tr>\n",
       "    <tr>\n",
       "      <th>4</th>\n",
       "      <td>Spain</td>\n",
       "      <td>Female</td>\n",
       "      <td>1</td>\n",
       "      <td>0</td>\n",
       "      <td>&gt;700</td>\n",
       "      <td>&lt;=100000</td>\n",
       "      <td>&lt;=150000</td>\n",
       "      <td>850.0</td>\n",
       "      <td>43.0</td>\n",
       "      <td>2.0</td>\n",
       "      <td>...</td>\n",
       "      <td>6.254295e+09</td>\n",
       "      <td>1.0</td>\n",
       "      <td>79084.10</td>\n",
       "      <td>6.254295e+09</td>\n",
       "      <td>4.946153e+14</td>\n",
       "      <td>1.0</td>\n",
       "      <td>79084.10</td>\n",
       "      <td>6.254295e+09</td>\n",
       "      <td>4.946153e+14</td>\n",
       "      <td>3.911620e+19</td>\n",
       "    </tr>\n",
       "  </tbody>\n",
       "</table>\n",
       "<p>5 rows × 336 columns</p>\n",
       "</div>"
      ],
      "text/plain": [
       "  country  gender products_number  churn credit_score_bin salary_bin  \\\n",
       "0  France  Female               1      1            <=700   <=150000   \n",
       "1   Spain  Female               1      0            <=700   <=150000   \n",
       "2  France  Female              >2      1            <=600   <=150000   \n",
       "3  France  Female               2      0            <=700   <=100000   \n",
       "4   Spain  Female               1      0             >700   <=100000   \n",
       "\n",
       "  balance_bin  credit_score   age  tenure  ...  \\\n",
       "0     <=90000         619.0  42.0     2.0  ...   \n",
       "1     <=90000         608.0  41.0     1.0  ...   \n",
       "2     >150000         502.0  42.0     8.0  ...   \n",
       "3     <=90000         699.0  39.0     1.0  ...   \n",
       "4    <=150000         850.0  43.0     2.0  ...   \n",
       "\n",
       "   credit_card^2 estimated_salary^2  credit_card active_member^3  \\\n",
       "0                      1.027160e+10                          1.0   \n",
       "1                      0.000000e+00                          0.0   \n",
       "2                      1.298040e+10                          0.0   \n",
       "3                      0.000000e+00                          0.0   \n",
       "4                      6.254295e+09                          1.0   \n",
       "\n",
       "   credit_card active_member^2 estimated_salary  \\\n",
       "0                                     101348.88   \n",
       "1                                          0.00   \n",
       "2                                          0.00   \n",
       "3                                          0.00   \n",
       "4                                      79084.10   \n",
       "\n",
       "   credit_card active_member estimated_salary^2  \\\n",
       "0                                  1.027160e+10   \n",
       "1                                  0.000000e+00   \n",
       "2                                  0.000000e+00   \n",
       "3                                  0.000000e+00   \n",
       "4                                  6.254295e+09   \n",
       "\n",
       "   credit_card estimated_salary^3  active_member^4  \\\n",
       "0                    1.041015e+15              1.0   \n",
       "1                    0.000000e+00              1.0   \n",
       "2                    1.478878e+15              0.0   \n",
       "3                    0.000000e+00              0.0   \n",
       "4                    4.946153e+14              1.0   \n",
       "\n",
       "   active_member^3 estimated_salary  active_member^2 estimated_salary^2  \\\n",
       "0                         101348.88                        1.027160e+10   \n",
       "1                         112542.58                        1.266583e+10   \n",
       "2                              0.00                        0.000000e+00   \n",
       "3                              0.00                        0.000000e+00   \n",
       "4                          79084.10                        6.254295e+09   \n",
       "\n",
       "   active_member estimated_salary^3  estimated_salary^4  \n",
       "0                      1.041015e+15        1.055057e+20  \n",
       "1                      1.425445e+15        1.604233e+20  \n",
       "2                      0.000000e+00        1.684909e+20  \n",
       "3                      0.000000e+00        7.750049e+19  \n",
       "4                      4.946153e+14        3.911620e+19  \n",
       "\n",
       "[5 rows x 336 columns]"
      ]
     },
     "execution_count": 32,
     "metadata": {},
     "output_type": "execute_result"
    }
   ],
   "source": [
    "poly_df.head()"
   ]
  },
  {
   "cell_type": "code",
   "execution_count": 34,
   "metadata": {},
   "outputs": [],
   "source": [
    "poly_df[['credit_card', 'active_member', 'tenure']]=poly_df[['credit_card', 'active_member', 'tenure']].astype(int)"
   ]
  },
  {
   "cell_type": "code",
   "execution_count": 35,
   "metadata": {},
   "outputs": [
    {
     "data": {
      "application/vnd.jupyter.widget-view+json": {
       "model_id": "7db3f43e0e0a4ddc96065295f8f5f403",
       "version_major": 2,
       "version_minor": 0
      },
      "text/plain": [
       "MetricVisualizer(layout=Layout(align_self='stretch', height='500px'))"
      ]
     },
     "metadata": {},
     "output_type": "display_data"
    },
    {
     "name": "stdout",
     "output_type": "stream",
     "text": [
      "auc_train: 0.7342\n",
      "auc_test: 0.7142\n"
     ]
    }
   ],
   "source": [
    "poly_model, X_train_poly, y_train_poly, X_test_poly, y_test_poly, auc_train_poly, auc_test_poly = fn.build_model(poly_df, cat_features_2, 'classifier')"
   ]
  },
  {
   "cell_type": "code",
   "execution_count": 38,
   "metadata": {},
   "outputs": [
    {
     "data": {
      "image/png": "[encoded data removed]",
      "text/plain": [
       "<Figure size 640x480 with 1 Axes>"
      ]
     },
     "metadata": {},
     "output_type": "display_data"
    }
   ],
   "source": [
    "poly_feature_importance=fn.get_feature_importance(poly_model, X_train_poly.columns)\n",
    "fn.plot_feature_importance(poly_feature_importance.head(20))"
   ]
  },
  {
   "cell_type": "code",
   "execution_count": null,
   "metadata": {},
   "outputs": [],
   "source": []
  },
  {
   "cell_type": "code",
   "execution_count": null,
   "metadata": {},
   "outputs": [],
   "source": []
  },
  {
   "cell_type": "markdown",
   "metadata": {},
   "source": [
    "## Группировка признаков\n"
   ]
  },
  {
   "cell_type": "markdown",
   "metadata": {},
   "source": [
    "**Агрегирование числовых признаков:**\n",
    "   - Реализуйте агрегирование **числовых** признаков по категориальным, вычислив следующие статистики: среднее, стандартное отклонение, квантиль и мода для каждой категории.\n",
    "   - Обучите модель на основе этих агрегированных признаков и сравните её производительность с предыдущими моделями.\n",
    "   - Напишите выводы о сравнении."
   ]
  },
  {
   "cell_type": "code",
   "execution_count": 39,
   "metadata": {},
   "outputs": [],
   "source": [
    "agg_df=fn.add_aggregations(df, cat_features_2, cont_features)"
   ]
  },
  {
   "cell_type": "code",
   "execution_count": 40,
   "metadata": {},
   "outputs": [
    {
     "data": {
      "text/html": [
       "<div>\n",
       "<style scoped>\n",
       "    .dataframe tbody tr th:only-of-type {\n",
       "        vertical-align: middle;\n",
       "    }\n",
       "\n",
       "    .dataframe tbody tr th {\n",
       "        vertical-align: top;\n",
       "    }\n",
       "\n",
       "    .dataframe thead th {\n",
       "        text-align: right;\n",
       "    }\n",
       "</style>\n",
       "<table border=\"1\" class=\"dataframe\">\n",
       "  <thead>\n",
       "    <tr style=\"text-align: right;\">\n",
       "      <th></th>\n",
       "      <th>credit_score</th>\n",
       "      <th>country</th>\n",
       "      <th>gender</th>\n",
       "      <th>age</th>\n",
       "      <th>tenure</th>\n",
       "      <th>balance</th>\n",
       "      <th>products_number</th>\n",
       "      <th>credit_card</th>\n",
       "      <th>active_member</th>\n",
       "      <th>estimated_salary</th>\n",
       "      <th>...</th>\n",
       "      <th>balance_q3</th>\n",
       "      <th>balance_min</th>\n",
       "      <th>balance_max</th>\n",
       "      <th>estimated_salary_mean</th>\n",
       "      <th>estimated_salary_std</th>\n",
       "      <th>estimated_salary_median</th>\n",
       "      <th>estimated_salary_q1</th>\n",
       "      <th>estimated_salary_q3</th>\n",
       "      <th>estimated_salary_min</th>\n",
       "      <th>estimated_salary_max</th>\n",
       "    </tr>\n",
       "  </thead>\n",
       "  <tbody>\n",
       "    <tr>\n",
       "      <th>0</th>\n",
       "      <td>619</td>\n",
       "      <td>France</td>\n",
       "      <td>Female</td>\n",
       "      <td>42</td>\n",
       "      <td>2</td>\n",
       "      <td>0.00</td>\n",
       "      <td>1</td>\n",
       "      <td>1</td>\n",
       "      <td>1</td>\n",
       "      <td>101348.88</td>\n",
       "      <td>...</td>\n",
       "      <td>0.0</td>\n",
       "      <td>0.0</td>\n",
       "      <td>213146.20</td>\n",
       "      <td>98312.359857</td>\n",
       "      <td>57823.637849</td>\n",
       "      <td>96410.125</td>\n",
       "      <td>49814.7075</td>\n",
       "      <td>49814.7075</td>\n",
       "      <td>96.27</td>\n",
       "      <td>199992.48</td>\n",
       "    </tr>\n",
       "    <tr>\n",
       "      <th>1</th>\n",
       "      <td>608</td>\n",
       "      <td>Spain</td>\n",
       "      <td>Female</td>\n",
       "      <td>41</td>\n",
       "      <td>1</td>\n",
       "      <td>83807.86</td>\n",
       "      <td>1</td>\n",
       "      <td>0</td>\n",
       "      <td>1</td>\n",
       "      <td>112542.58</td>\n",
       "      <td>...</td>\n",
       "      <td>0.0</td>\n",
       "      <td>0.0</td>\n",
       "      <td>211774.31</td>\n",
       "      <td>100468.618957</td>\n",
       "      <td>58031.830963</td>\n",
       "      <td>101693.730</td>\n",
       "      <td>52466.8050</td>\n",
       "      <td>52466.8050</td>\n",
       "      <td>236.45</td>\n",
       "      <td>199661.50</td>\n",
       "    </tr>\n",
       "    <tr>\n",
       "      <th>2</th>\n",
       "      <td>502</td>\n",
       "      <td>France</td>\n",
       "      <td>Female</td>\n",
       "      <td>42</td>\n",
       "      <td>8</td>\n",
       "      <td>159660.80</td>\n",
       "      <td>&gt;2</td>\n",
       "      <td>1</td>\n",
       "      <td>0</td>\n",
       "      <td>113931.57</td>\n",
       "      <td>...</td>\n",
       "      <td>0.0</td>\n",
       "      <td>0.0</td>\n",
       "      <td>206663.75</td>\n",
       "      <td>101072.102937</td>\n",
       "      <td>57607.158672</td>\n",
       "      <td>101089.760</td>\n",
       "      <td>52615.6200</td>\n",
       "      <td>52615.6200</td>\n",
       "      <td>91.75</td>\n",
       "      <td>199909.32</td>\n",
       "    </tr>\n",
       "    <tr>\n",
       "      <th>3</th>\n",
       "      <td>699</td>\n",
       "      <td>France</td>\n",
       "      <td>Female</td>\n",
       "      <td>39</td>\n",
       "      <td>1</td>\n",
       "      <td>0.00</td>\n",
       "      <td>2</td>\n",
       "      <td>0</td>\n",
       "      <td>0</td>\n",
       "      <td>93826.63</td>\n",
       "      <td>...</td>\n",
       "      <td>0.0</td>\n",
       "      <td>0.0</td>\n",
       "      <td>211774.31</td>\n",
       "      <td>100468.618957</td>\n",
       "      <td>58031.830963</td>\n",
       "      <td>101693.730</td>\n",
       "      <td>52466.8050</td>\n",
       "      <td>52466.8050</td>\n",
       "      <td>236.45</td>\n",
       "      <td>199661.50</td>\n",
       "    </tr>\n",
       "    <tr>\n",
       "      <th>4</th>\n",
       "      <td>850</td>\n",
       "      <td>Spain</td>\n",
       "      <td>Female</td>\n",
       "      <td>43</td>\n",
       "      <td>2</td>\n",
       "      <td>125510.82</td>\n",
       "      <td>1</td>\n",
       "      <td>1</td>\n",
       "      <td>1</td>\n",
       "      <td>79084.10</td>\n",
       "      <td>...</td>\n",
       "      <td>0.0</td>\n",
       "      <td>0.0</td>\n",
       "      <td>213146.20</td>\n",
       "      <td>98312.359857</td>\n",
       "      <td>57823.637849</td>\n",
       "      <td>96410.125</td>\n",
       "      <td>49814.7075</td>\n",
       "      <td>49814.7075</td>\n",
       "      <td>96.27</td>\n",
       "      <td>199992.48</td>\n",
       "    </tr>\n",
       "  </tbody>\n",
       "</table>\n",
       "<p>5 rows × 42 columns</p>\n",
       "</div>"
      ],
      "text/plain": [
       "   credit_score country  gender  age  tenure    balance products_number  \\\n",
       "0           619  France  Female   42       2       0.00               1   \n",
       "1           608   Spain  Female   41       1   83807.86               1   \n",
       "2           502  France  Female   42       8  159660.80              >2   \n",
       "3           699  France  Female   39       1       0.00               2   \n",
       "4           850   Spain  Female   43       2  125510.82               1   \n",
       "\n",
       "   credit_card  active_member  estimated_salary  ...  balance_q3 balance_min  \\\n",
       "0            1              1         101348.88  ...         0.0         0.0   \n",
       "1            0              1         112542.58  ...         0.0         0.0   \n",
       "2            1              0         113931.57  ...         0.0         0.0   \n",
       "3            0              0          93826.63  ...         0.0         0.0   \n",
       "4            1              1          79084.10  ...         0.0         0.0   \n",
       "\n",
       "  balance_max estimated_salary_mean  estimated_salary_std  \\\n",
       "0   213146.20          98312.359857          57823.637849   \n",
       "1   211774.31         100468.618957          58031.830963   \n",
       "2   206663.75         101072.102937          57607.158672   \n",
       "3   211774.31         100468.618957          58031.830963   \n",
       "4   213146.20          98312.359857          57823.637849   \n",
       "\n",
       "   estimated_salary_median  estimated_salary_q1  estimated_salary_q3  \\\n",
       "0                96410.125           49814.7075           49814.7075   \n",
       "1               101693.730           52466.8050           52466.8050   \n",
       "2               101089.760           52615.6200           52615.6200   \n",
       "3               101693.730           52466.8050           52466.8050   \n",
       "4                96410.125           49814.7075           49814.7075   \n",
       "\n",
       "   estimated_salary_min  estimated_salary_max  \n",
       "0                 96.27             199992.48  \n",
       "1                236.45             199661.50  \n",
       "2                 91.75             199909.32  \n",
       "3                236.45             199661.50  \n",
       "4                 96.27             199992.48  \n",
       "\n",
       "[5 rows x 42 columns]"
      ]
     },
     "execution_count": 40,
     "metadata": {},
     "output_type": "execute_result"
    }
   ],
   "source": [
    "agg_df.head()"
   ]
  },
  {
   "cell_type": "code",
   "execution_count": 41,
   "metadata": {},
   "outputs": [
    {
     "data": {
      "application/vnd.jupyter.widget-view+json": {
       "model_id": "2816d6d5378b4c9aa4a67dae8bb92cc6",
       "version_major": 2,
       "version_minor": 0
      },
      "text/plain": [
       "MetricVisualizer(layout=Layout(align_self='stretch', height='500px'))"
      ]
     },
     "metadata": {},
     "output_type": "display_data"
    },
    {
     "name": "stdout",
     "output_type": "stream",
     "text": [
      "auc_train: 0.7356\n",
      "auc_test: 0.7187\n"
     ]
    }
   ],
   "source": [
    "agg_model, X_train_agg, y_train_agg, X_test_agg, y_test_agg, auc_train_agg, auc_test_agg = fn.build_model(agg_df, cat_features_2, 'classifier')"
   ]
  },
  {
   "cell_type": "code",
   "execution_count": 42,
   "metadata": {},
   "outputs": [
    {
     "data": {
      "image/png": "[encoded data removed]",
      "text/plain": [
       "<Figure size 640x480 with 1 Axes>"
      ]
     },
     "metadata": {},
     "output_type": "display_data"
    }
   ],
   "source": [
    "agg_feature_importance=fn.get_feature_importance(agg_model, X_train_agg.columns)\n",
    "fn.plot_feature_importance(agg_feature_importance.head(20))"
   ]
  },
  {
   "cell_type": "code",
   "execution_count": null,
   "metadata": {},
   "outputs": [],
   "source": []
  },
  {
   "cell_type": "code",
   "execution_count": null,
   "metadata": {},
   "outputs": [],
   "source": []
  },
  {
   "cell_type": "markdown",
   "metadata": {},
   "source": []
  }
 ],
 "metadata": {
  "kernelspec": {
   "display_name": "env_1",
   "language": "python",
   "name": "python3"
  },
  "language_info": {
   "codemirror_mode": {
    "name": "ipython",
    "version": 3
   },
   "file_extension": ".py",
   "mimetype": "text/x-python",
   "name": "python",
   "nbconvert_exporter": "python",
   "pygments_lexer": "ipython3",
   "version": "3.11.4"
  }
 },
 "nbformat": 4,
 "nbformat_minor": 2
}
