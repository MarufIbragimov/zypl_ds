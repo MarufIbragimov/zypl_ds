{
 "cells": [
  {
   "cell_type": "code",
   "execution_count": null,
   "id": "4041aa37",
   "metadata": {},
   "outputs": [],
   "source": [
    "# ! pip install catboost\n",
    "# ! pip install featuretools\n",
    "\n",
    "# ! pip install ipywidgets"
   ]
  },
  {
   "cell_type": "markdown",
   "id": "31f1b1b9",
   "metadata": {},
   "source": [
    "# Методы валидации"
   ]
  },
  {
   "cell_type": "code",
   "execution_count": 2,
   "id": "6967dcf7",
   "metadata": {},
   "outputs": [],
   "source": [
    "import pandas as pd\n",
    "import warnings\n",
    "import matplotlib.pyplot as plt\n",
    "from catboost import CatBoostClassifier, Pool\n",
    "from sklearn.model_selection import train_test_split\n",
    "from sklearn.metrics import roc_auc_score\n",
    "import numpy as np\n",
    "\n",
    "warnings.filterwarnings('ignore')"
   ]
  },
  {
   "cell_type": "code",
   "execution_count": 9,
   "id": "7dd6cd2f",
   "metadata": {},
   "outputs": [
    {
     "name": "stdout",
     "output_type": "stream",
     "text": [
      "(32561, 15)\n"
     ]
    },
    {
     "data": {
      "text/html": [
       "<div>\n",
       "<style scoped>\n",
       "    .dataframe tbody tr th:only-of-type {\n",
       "        vertical-align: middle;\n",
       "    }\n",
       "\n",
       "    .dataframe tbody tr th {\n",
       "        vertical-align: top;\n",
       "    }\n",
       "\n",
       "    .dataframe thead th {\n",
       "        text-align: right;\n",
       "    }\n",
       "</style>\n",
       "<table border=\"1\" class=\"dataframe\">\n",
       "  <thead>\n",
       "    <tr style=\"text-align: right;\">\n",
       "      <th></th>\n",
       "      <th>age</th>\n",
       "      <th>workclass</th>\n",
       "      <th>fnlwgt</th>\n",
       "      <th>education</th>\n",
       "      <th>education-num</th>\n",
       "      <th>marital-status</th>\n",
       "      <th>occupation</th>\n",
       "      <th>relationship</th>\n",
       "      <th>race</th>\n",
       "      <th>sex</th>\n",
       "      <th>capital-gain</th>\n",
       "      <th>capital-loss</th>\n",
       "      <th>hours-per-week</th>\n",
       "      <th>native-country</th>\n",
       "      <th>income</th>\n",
       "    </tr>\n",
       "  </thead>\n",
       "  <tbody>\n",
       "    <tr>\n",
       "      <th>0</th>\n",
       "      <td>39</td>\n",
       "      <td>State-gov</td>\n",
       "      <td>77516</td>\n",
       "      <td>Bachelors</td>\n",
       "      <td>13</td>\n",
       "      <td>Never-married</td>\n",
       "      <td>Adm-clerical</td>\n",
       "      <td>Not-in-family</td>\n",
       "      <td>White</td>\n",
       "      <td>Male</td>\n",
       "      <td>2174</td>\n",
       "      <td>0</td>\n",
       "      <td>40</td>\n",
       "      <td>United-States</td>\n",
       "      <td>&lt;=50K</td>\n",
       "    </tr>\n",
       "    <tr>\n",
       "      <th>1</th>\n",
       "      <td>50</td>\n",
       "      <td>Self-emp-not-inc</td>\n",
       "      <td>83311</td>\n",
       "      <td>Bachelors</td>\n",
       "      <td>13</td>\n",
       "      <td>Married-civ-spouse</td>\n",
       "      <td>Exec-managerial</td>\n",
       "      <td>Husband</td>\n",
       "      <td>White</td>\n",
       "      <td>Male</td>\n",
       "      <td>0</td>\n",
       "      <td>0</td>\n",
       "      <td>13</td>\n",
       "      <td>United-States</td>\n",
       "      <td>&lt;=50K</td>\n",
       "    </tr>\n",
       "    <tr>\n",
       "      <th>2</th>\n",
       "      <td>38</td>\n",
       "      <td>Private</td>\n",
       "      <td>215646</td>\n",
       "      <td>HS-grad</td>\n",
       "      <td>9</td>\n",
       "      <td>Divorced</td>\n",
       "      <td>Handlers-cleaners</td>\n",
       "      <td>Not-in-family</td>\n",
       "      <td>White</td>\n",
       "      <td>Male</td>\n",
       "      <td>0</td>\n",
       "      <td>0</td>\n",
       "      <td>40</td>\n",
       "      <td>United-States</td>\n",
       "      <td>&lt;=50K</td>\n",
       "    </tr>\n",
       "    <tr>\n",
       "      <th>3</th>\n",
       "      <td>53</td>\n",
       "      <td>Private</td>\n",
       "      <td>234721</td>\n",
       "      <td>11th</td>\n",
       "      <td>7</td>\n",
       "      <td>Married-civ-spouse</td>\n",
       "      <td>Handlers-cleaners</td>\n",
       "      <td>Husband</td>\n",
       "      <td>Black</td>\n",
       "      <td>Male</td>\n",
       "      <td>0</td>\n",
       "      <td>0</td>\n",
       "      <td>40</td>\n",
       "      <td>United-States</td>\n",
       "      <td>&lt;=50K</td>\n",
       "    </tr>\n",
       "    <tr>\n",
       "      <th>4</th>\n",
       "      <td>28</td>\n",
       "      <td>Private</td>\n",
       "      <td>338409</td>\n",
       "      <td>Bachelors</td>\n",
       "      <td>13</td>\n",
       "      <td>Married-civ-spouse</td>\n",
       "      <td>Prof-specialty</td>\n",
       "      <td>Wife</td>\n",
       "      <td>Black</td>\n",
       "      <td>Female</td>\n",
       "      <td>0</td>\n",
       "      <td>0</td>\n",
       "      <td>40</td>\n",
       "      <td>Cuba</td>\n",
       "      <td>&lt;=50K</td>\n",
       "    </tr>\n",
       "  </tbody>\n",
       "</table>\n",
       "</div>"
      ],
      "text/plain": [
       "   age         workclass  fnlwgt  education  education-num  \\\n",
       "0   39         State-gov   77516  Bachelors             13   \n",
       "1   50  Self-emp-not-inc   83311  Bachelors             13   \n",
       "2   38           Private  215646    HS-grad              9   \n",
       "3   53           Private  234721       11th              7   \n",
       "4   28           Private  338409  Bachelors             13   \n",
       "\n",
       "       marital-status         occupation   relationship   race     sex  \\\n",
       "0       Never-married       Adm-clerical  Not-in-family  White    Male   \n",
       "1  Married-civ-spouse    Exec-managerial        Husband  White    Male   \n",
       "2            Divorced  Handlers-cleaners  Not-in-family  White    Male   \n",
       "3  Married-civ-spouse  Handlers-cleaners        Husband  Black    Male   \n",
       "4  Married-civ-spouse     Prof-specialty           Wife  Black  Female   \n",
       "\n",
       "   capital-gain  capital-loss  hours-per-week native-country income  \n",
       "0          2174             0              40  United-States  <=50K  \n",
       "1             0             0              13  United-States  <=50K  \n",
       "2             0             0              40  United-States  <=50K  \n",
       "3             0             0              40  United-States  <=50K  \n",
       "4             0             0              40           Cuba  <=50K  "
      ]
     },
     "execution_count": 9,
     "metadata": {},
     "output_type": "execute_result"
    }
   ],
   "source": [
    "def download_adult():\n",
    "    url = 'https://archive.ics.uci.edu/ml/machine-learning-databases/adult/adult.data'\n",
    "    column_names = [\n",
    "        'age', 'workclass', 'fnlwgt', 'education', 'education-num',\n",
    "        'marital-status', 'occupation', 'relationship', 'race', 'sex',\n",
    "        'capital-gain', 'capital-loss', 'hours-per-week', 'native-country', 'income'\n",
    "    ]\n",
    "    adult_df = pd.read_csv(url, names = column_names, sep=',\\s')\n",
    "    return adult_df\n",
    "\n",
    "data = download_adult()\n",
    "print(data.shape)\n",
    "data.head()"
   ]
  },
  {
   "attachments": {
    "image.png": {
     "image/png": "[encoded data removed]"
    }
   },
   "cell_type": "markdown",
   "id": "4f59e739",
   "metadata": {},
   "source": [
    "# 1\n",
    "\n",
    "### Удерживающая проверка (Hold-Out CV): датасет делится на два набора: для обучения и для тестирования. Модель обучается на тренировочном наборе, а затем оценивается на тестовом.\n",
    "![image.png](attachment:image.png)"
   ]
  },
  {
   "cell_type": "code",
   "execution_count": 24,
   "id": "8d1d15c7",
   "metadata": {},
   "outputs": [],
   "source": [
    "adult_df = data.copy()\n",
    "\n",
    "X = adult_df.drop(['income'], axis=1)\n",
    "y = (adult_df['income']=='>50K').astype(int)"
   ]
  },
  {
   "cell_type": "code",
   "execution_count": 25,
   "id": "9bb0ffc3",
   "metadata": {},
   "outputs": [],
   "source": [
    "X_train, X_test, y_train, y_test = train_test_split(X, y, test_size=0.3, random_state = 42)"
   ]
  },
  {
   "cell_type": "code",
   "execution_count": 27,
   "id": "b7eb58c9",
   "metadata": {},
   "outputs": [
    {
     "data": {
      "text/html": [
       "<div>\n",
       "<style scoped>\n",
       "    .dataframe tbody tr th:only-of-type {\n",
       "        vertical-align: middle;\n",
       "    }\n",
       "\n",
       "    .dataframe tbody tr th {\n",
       "        vertical-align: top;\n",
       "    }\n",
       "\n",
       "    .dataframe thead th {\n",
       "        text-align: right;\n",
       "    }\n",
       "</style>\n",
       "<table border=\"1\" class=\"dataframe\">\n",
       "  <thead>\n",
       "    <tr style=\"text-align: right;\">\n",
       "      <th></th>\n",
       "      <th>age</th>\n",
       "      <th>workclass</th>\n",
       "      <th>fnlwgt</th>\n",
       "      <th>education</th>\n",
       "      <th>education-num</th>\n",
       "      <th>marital-status</th>\n",
       "      <th>occupation</th>\n",
       "      <th>relationship</th>\n",
       "      <th>race</th>\n",
       "      <th>sex</th>\n",
       "      <th>capital-gain</th>\n",
       "      <th>capital-loss</th>\n",
       "      <th>hours-per-week</th>\n",
       "      <th>native-country</th>\n",
       "      <th>income</th>\n",
       "    </tr>\n",
       "  </thead>\n",
       "  <tbody>\n",
       "    <tr>\n",
       "      <th>0</th>\n",
       "      <td>39</td>\n",
       "      <td>State-gov</td>\n",
       "      <td>77516</td>\n",
       "      <td>Bachelors</td>\n",
       "      <td>13</td>\n",
       "      <td>Never-married</td>\n",
       "      <td>Adm-clerical</td>\n",
       "      <td>Not-in-family</td>\n",
       "      <td>White</td>\n",
       "      <td>Male</td>\n",
       "      <td>2174</td>\n",
       "      <td>0</td>\n",
       "      <td>40</td>\n",
       "      <td>United-States</td>\n",
       "      <td>&lt;=50K</td>\n",
       "    </tr>\n",
       "    <tr>\n",
       "      <th>1</th>\n",
       "      <td>50</td>\n",
       "      <td>Self-emp-not-inc</td>\n",
       "      <td>83311</td>\n",
       "      <td>Bachelors</td>\n",
       "      <td>13</td>\n",
       "      <td>Married-civ-spouse</td>\n",
       "      <td>Exec-managerial</td>\n",
       "      <td>Husband</td>\n",
       "      <td>White</td>\n",
       "      <td>Male</td>\n",
       "      <td>0</td>\n",
       "      <td>0</td>\n",
       "      <td>13</td>\n",
       "      <td>United-States</td>\n",
       "      <td>&lt;=50K</td>\n",
       "    </tr>\n",
       "    <tr>\n",
       "      <th>2</th>\n",
       "      <td>38</td>\n",
       "      <td>Private</td>\n",
       "      <td>215646</td>\n",
       "      <td>HS-grad</td>\n",
       "      <td>9</td>\n",
       "      <td>Divorced</td>\n",
       "      <td>Handlers-cleaners</td>\n",
       "      <td>Not-in-family</td>\n",
       "      <td>White</td>\n",
       "      <td>Male</td>\n",
       "      <td>0</td>\n",
       "      <td>0</td>\n",
       "      <td>40</td>\n",
       "      <td>United-States</td>\n",
       "      <td>&lt;=50K</td>\n",
       "    </tr>\n",
       "  </tbody>\n",
       "</table>\n",
       "</div>"
      ],
      "text/plain": [
       "   age         workclass  fnlwgt  education  education-num  \\\n",
       "0   39         State-gov   77516  Bachelors             13   \n",
       "1   50  Self-emp-not-inc   83311  Bachelors             13   \n",
       "2   38           Private  215646    HS-grad              9   \n",
       "\n",
       "       marital-status         occupation   relationship   race   sex  \\\n",
       "0       Never-married       Adm-clerical  Not-in-family  White  Male   \n",
       "1  Married-civ-spouse    Exec-managerial        Husband  White  Male   \n",
       "2            Divorced  Handlers-cleaners  Not-in-family  White  Male   \n",
       "\n",
       "   capital-gain  capital-loss  hours-per-week native-country income  \n",
       "0          2174             0              40  United-States  <=50K  \n",
       "1             0             0              13  United-States  <=50K  \n",
       "2             0             0              40  United-States  <=50K  "
      ]
     },
     "execution_count": 27,
     "metadata": {},
     "output_type": "execute_result"
    }
   ],
   "source": [
    "data.head(3)"
   ]
  },
  {
   "cell_type": "code",
   "execution_count": 28,
   "id": "b8bf5c20",
   "metadata": {},
   "outputs": [],
   "source": [
    "cat_features = ['workclass', 'education', 'marital-status', 'occupation',\n",
    "                                                            'relationship', 'race', 'sex', 'native-country']\n",
    "\n",
    "train_pool = Pool(data = X_train, label = y_train, cat_features = cat_features)\n",
    "\n",
    "test_pool = Pool(data = X_test, label = y_test, cat_features = cat_features)"
   ]
  },
  {
   "cell_type": "code",
   "execution_count": 33,
   "id": "a3e59c0b",
   "metadata": {
    "scrolled": false
   },
   "outputs": [
    {
     "data": {
      "application/vnd.jupyter.widget-view+json": {
       "model_id": "3173f37435b348a481e5c5059786a090",
       "version_major": 2,
       "version_minor": 0
      },
      "text/plain": [
       "MetricVisualizer(layout=Layout(align_self='stretch', height='500px'))"
      ]
     },
     "metadata": {},
     "output_type": "display_data"
    },
    {
     "data": {
      "text/plain": [
       "<catboost.core.CatBoostClassifier at 0x28614476850>"
      ]
     },
     "execution_count": 33,
     "metadata": {},
     "output_type": "execute_result"
    }
   ],
   "source": [
    "model = CatBoostClassifier(random_state=123, depth=2, eval_metric='AUC', verbose=0)\n",
    "model.fit(train_pool, eval_set = test_pool, plot=True)"
   ]
  },
  {
   "cell_type": "code",
   "execution_count": 36,
   "id": "ed7b474a",
   "metadata": {},
   "outputs": [
    {
     "data": {
      "text/plain": [
       "array([0.00833042, 0.51879433, 0.62051383, ..., 0.00878571, 0.56864122,\n",
       "       0.99647341])"
      ]
     },
     "execution_count": 36,
     "metadata": {},
     "output_type": "execute_result"
    }
   ],
   "source": [
    "model.predict_proba(test_pool)[:, 1]"
   ]
  },
  {
   "cell_type": "code",
   "execution_count": 39,
   "id": "5d4a2256",
   "metadata": {},
   "outputs": [],
   "source": [
    "y_pred_proba_test = model.predict_proba(test_pool)[:, 1]\n",
    "auc_test = roc_auc_score(y_test, y_pred_proba_test)"
   ]
  },
  {
   "cell_type": "code",
   "execution_count": 40,
   "id": "dec1f6b1",
   "metadata": {},
   "outputs": [],
   "source": [
    "y_pred_proba_train = model.predict_proba(train_pool)[:, 1]\n",
    "auc_train = roc_auc_score(y_train, y_pred_proba_train)"
   ]
  },
  {
   "cell_type": "code",
   "execution_count": 41,
   "id": "2684320a",
   "metadata": {},
   "outputs": [
    {
     "data": {
      "text/plain": [
       "(0.9245772242211552, 0.9318012970683213)"
      ]
     },
     "execution_count": 41,
     "metadata": {},
     "output_type": "execute_result"
    }
   ],
   "source": [
    "auc_test, auc_train"
   ]
  },
  {
   "attachments": {
    "image.png": {
     "image/png": "[encoded data removed]"
    }
   },
   "cell_type": "markdown",
   "id": "9bce3262",
   "metadata": {},
   "source": [
    "# 2\n",
    "### k-блочная перекрестная проверка (k-Fold CV): в этом типе проверки набор данных делится на k подмножеств одинакового размера. Модель обучается k раз и каждый раз использует другое подмножество в качестве набора для тестирования и оставшиеся подмножества в качестве набора для обучения.\n",
    "\n",
    "![image.png](attachment:image.png)"
   ]
  },
  {
   "cell_type": "code",
   "execution_count": 47,
   "id": "2d797da7",
   "metadata": {},
   "outputs": [],
   "source": [
    "train_pool = Pool(data = X, label = y, cat_features = cat_features)"
   ]
  },
  {
   "cell_type": "code",
   "execution_count": 49,
   "id": "e7fde3e0",
   "metadata": {},
   "outputs": [],
   "source": [
    "from sklearn.model_selection import cross_val_score\n",
    "\n",
    "model = CatBoostClassifier(random_state=123, depth=2,iterations=100, eval_metric='AUC', verbose=0, cat_features=cat_features)\n",
    "\n",
    "scores = cross_val_score(model, X,y, cv=10, scoring='roc_auc')"
   ]
  },
  {
   "cell_type": "code",
   "execution_count": 46,
   "id": "1a60d5c8",
   "metadata": {},
   "outputs": [
    {
     "data": {
      "text/plain": [
       "(0.9202329047439737, 0.003923059403007608)"
      ]
     },
     "execution_count": 46,
     "metadata": {},
     "output_type": "execute_result"
    }
   ],
   "source": [
    "scores.mean(), scores.std()"
   ]
  },
  {
   "attachments": {
    "image.png": {
     "image/png": "[encoded data removed]"
    }
   },
   "cell_type": "markdown",
   "id": "dcf38303",
   "metadata": {},
   "source": [
    "# 3\n",
    "\n",
    "### Стратифицированный метод k-Fold проверки (Stratified k-Fold cross-validation) — это разновидность k-Fold CV, разработанная для эффективной работы в случаях дисбаланса классов. Например, в наборе данных о ценах на наручные часы может быть большее количество наручных часов в категории \"Люкс\".\n",
    "\n",
    "![image.png](attachment:image.png)"
   ]
  },
  {
   "cell_type": "code",
   "execution_count": 53,
   "id": "bf08b7bf",
   "metadata": {},
   "outputs": [],
   "source": [
    "from sklearn.model_selection import StratifiedKFold\n",
    "\n",
    "skf = StratifiedKFold(n_splits=10)\n",
    "\n",
    "scores = cross_val_score(model,X,y, cv=skf, scoring='roc_auc')\n",
    "scores.mean(), scores.std()"
   ]
  },
  {
   "attachments": {
    "image.png": {
     "image/png": "[encoded data removed]"
    }
   },
   "cell_type": "markdown",
   "id": "77541e7b",
   "metadata": {},
   "source": [
    "# 4\n",
    "### Перекрестная проверка с исключением одного (Leave-One-Out Cross Validation – LOOCV): это особый случай k-Fold, где k равно количеству экземпляров в наборе данных. В этом случае каждый экземпляр используется как тестовый набор один раз.\n",
    "![image.png](attachment:image.png)"
   ]
  },
  {
   "cell_type": "code",
   "execution_count": null,
   "id": "0c9fb2b4",
   "metadata": {},
   "outputs": [],
   "source": [
    "X=df2.drop(labels=[target], axis=1)\n",
    "y=df2[target]"
   ]
  },
  {
   "cell_type": "code",
   "execution_count": 58,
   "id": "14d94f22",
   "metadata": {},
   "outputs": [
    {
     "data": {
      "text/plain": [
       "(32561, 14)"
      ]
     },
     "execution_count": 58,
     "metadata": {},
     "output_type": "execute_result"
    }
   ],
   "source": [
    "# from sklearn.model_selection import LeaveOneOut\n",
    "\n",
    "# loo = LeaveOneOut(n_splits=10)\n",
    "\n",
    "# scores = cross_val_score(model,X,y, cv=loo, scoring='roc_auc',n_jobs=-1)\n",
    "# scores.mean(), scores.std()"
   ]
  },
  {
   "attachments": {
    "image.png": {
     "image/png": "[encoded data removed]"
    }
   },
   "cell_type": "markdown",
   "id": "16186170",
   "metadata": {},
   "source": [
    "# 5\n",
    "### Кросс-валидация Временных рядов или Out of time валидация. Выполняется на скользящей основе, т. е. начиная с небольшого подмножества данных в целях обучения, и дальнейшего прогнозирования будущих значений.\n",
    "![image.png](attachment:image.png)"
   ]
  },
  {
   "cell_type": "code",
   "execution_count": 74,
   "id": "4463a46d",
   "metadata": {},
   "outputs": [],
   "source": [
    "random_dates = pd.to_datetime(np.random.choice(pd.date_range('2018-01-01', '2024-12-31'), size=len(X)))"
   ]
  },
  {
   "cell_type": "code",
   "execution_count": 75,
   "id": "ee15858a",
   "metadata": {},
   "outputs": [],
   "source": [
    "X['random_date'] = random_dates"
   ]
  },
  {
   "cell_type": "code",
   "execution_count": 78,
   "id": "15fffd52",
   "metadata": {},
   "outputs": [],
   "source": [
    "X_train = X[X['random_date'].dt.year<2022]\n",
    "X_test = X[X['random_date'].dt.year>=2022]\n",
    "y_train = y[X['random_date'].dt.year<2022]\n",
    "y_test = y[X['random_date'].dt.year>=2022]"
   ]
  },
  {
   "cell_type": "code",
   "execution_count": 79,
   "id": "9687a44a",
   "metadata": {},
   "outputs": [
    {
     "data": {
      "application/vnd.jupyter.widget-view+json": {
       "model_id": "901c3e4350e243c597d6cea9905d2eb0",
       "version_major": 2,
       "version_minor": 0
      },
      "text/plain": [
       "MetricVisualizer(layout=Layout(align_self='stretch', height='500px'))"
      ]
     },
     "metadata": {},
     "output_type": "display_data"
    },
    {
     "data": {
      "text/plain": [
       "<catboost.core.CatBoostClassifier at 0x28617c313d0>"
      ]
     },
     "execution_count": 79,
     "metadata": {},
     "output_type": "execute_result"
    }
   ],
   "source": [
    "cat_features = ['workclass', 'education', 'marital-status', 'occupation',\n",
    "                                                            'relationship', 'race', 'sex', 'native-country']\n",
    "\n",
    "train_pool = Pool(data = X_train, label = y_train, cat_features = cat_features)\n",
    "\n",
    "test_pool = Pool(data = X_test, label = y_test, cat_features = cat_features)\n",
    "\n",
    "model = CatBoostClassifier(random_state=123, depth=2, eval_metric='AUC', verbose=0)\n",
    "model.fit(train_pool, eval_set = test_pool, plot=True)"
   ]
  },
  {
   "cell_type": "markdown",
   "id": "c4ea5abd",
   "metadata": {},
   "source": [
    "# Домашняя работа"
   ]
  },
  {
   "cell_type": "markdown",
   "id": "7e400274",
   "metadata": {},
   "source": [
    "# 📊 Задание по методам валидации в машинном обучении\n",
    "\n",
    "## 1. Загрузка и предобработка данных\n",
    "- 📥 **Загрузите набор данных** Bank Customer Churn Prediction и обработайте пропуски.\n",
    "- 🔄 **Разделите данные на признаки (X) и целевую переменную (y).**\n",
    "- 📈 **Выведите корреляционную сортированную таблицу** признаков и таргета для определения самых важных признаков, которые влияют на целевую переменную (либо в виде сортированного графика).\n",
    "- 📊 **Выведите распределение целевой переменной в процентном соотношении.**\n",
    "\n",
    "---\n",
    "\n",
    "## 2. Удерживающая проверка (Hold-Out CV)\n",
    "- ✂️ **Разделите данные на обучающую и тестовую выборки** в соотношении 80/20.\n",
    "- 🧠 **Обучите модель** CatBoostClassifier с использованием обучающей выборки.\n",
    "- 📊 **Оцените её производительность** на тестовой выборке, используя метрику AUC.\n",
    "\n",
    "---\n",
    "\n",
    "## 3. k-блочная перекрестная проверка (k-Fold CV)\n",
    "- 🔁 **Реализуйте k-Fold перекрестную проверку** с использованием 5 блоков.\n",
    "- 📊 **Вычислите среднее значение AUC** для всех блоков.\n",
    "\n",
    "---\n",
    "\n",
    "## 4. Стратифицированный k-Fold CV\n",
    "- ⚖️ **Выполните стратифицированную k-Fold перекрестную проверку**.\n",
    "- 🔍 **Сравните результаты** со стандартной k-Fold проверкой.\n",
    "- 📝 **Объясните, в чем преимущество стратифицированного подхода.**\n",
    "\n",
    "---\n",
    "\n",
    "## 5. Перекрестная проверка с исключением одного (LOOCV)\n",
    "- 🔄 **Реализуйте метод LOOCV**.\n",
    "- 📊 **Сравните полученные результаты** с предыдущими методами. Если алгоритм работает долго, попробуйте сократить количество подаваемых строк.\n",
    "\n",
    "---\n",
    "\n",
    "## 6. Подготовка сравнительной таблицы\n",
    "- 📊 **Подготовьте сравнительную таблицу для 4 методов валидации точности модели** (type of CV, std, mean).\n",
    "\n",
    "---\n",
    "\n",
    "## 7. Задание на доп балл\n",
    "- 🏆 **Выведите таблицу с метриками** для порогов отсечения 0.05, 0.1, 0.15, 0.25, 0.3 для положительного класса (Только для Hold-Out CV).\n",
    "\n",
    "---\n",
    "\n",
    "**PS:** Качество модели необходимо рассчитать не только по метрике AUC, но и по 3 другим метрикам на ваш выбор для пунктов 2-5."
   ]
  },
  {
   "cell_type": "markdown",
   "id": "5c463b21",
   "metadata": {},
   "source": [
    "# Дополнительные материалы\n",
    "\n",
    "https://habr.com/ru/companies/otus/articles/809147/\n",
    "\n",
    "https://medium.com/data-and-beyond/master-the-power-of-optuna-a-step-by-step-guide-ed43500e9b95"
   ]
  }
 ],
 "metadata": {
  "kernelspec": {
   "display_name": "Python 3.8.6 ('env_1': venv)",
   "language": "python",
   "name": "python3"
  },
  "language_info": {
   "codemirror_mode": {
    "name": "ipython",
    "version": 3
   },
   "file_extension": ".py",
   "mimetype": "text/x-python",
   "name": "python",
   "nbconvert_exporter": "python",
   "pygments_lexer": "ipython3",
   "version": "3.8.6"
  },
  "vscode": {
   "interpreter": {
    "hash": "9fa269bfd0ee2eb108e1b5cc8815a39b7a9b381700891fb1b9d1091f408bd958"
   }
  }
 },
 "nbformat": 4,
 "nbformat_minor": 5
}
